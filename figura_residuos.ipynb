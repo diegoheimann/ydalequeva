{
 "cells": [
  {
   "cell_type": "code",
   "execution_count": 1,
   "id": "da82423b",
   "metadata": {},
   "outputs": [],
   "source": [
    "import pandas as pd\n",
    "import numpy as np\n",
    "import matplotlib.pyplot as plt\n",
    "import seaborn as sns\n",
    "from ipywidgets import interact\n",
    "import warnings\n",
    "warnings.filterwarnings('ignore')"
   ]
  },
  {
   "cell_type": "code",
   "execution_count": 2,
   "id": "955b20f3",
   "metadata": {},
   "outputs": [],
   "source": [
    "df = pd.read_excel('../Bolsas - Pasado 1-5 al 30-5.xlsx', sheet_name='Hoja2')"
   ]
  },
  {
   "cell_type": "code",
   "execution_count": 3,
   "id": "8d22a482",
   "metadata": {},
   "outputs": [],
   "source": [
    "lista = ['21CODSTO', '22ALDSTO', '43CEDSTO', '43CNDST1', '43CNDST2', '43CODSTO', '43CSDST1', '43CSDST2']"
   ]
  },
  {
   "cell_type": "code",
   "execution_count": 4,
   "id": "9440632a",
   "metadata": {},
   "outputs": [],
   "source": [
    "df = df[~df.area.isin(lista)]"
   ]
  },
  {
   "cell_type": "code",
   "execution_count": null,
   "id": "6e1733c2",
   "metadata": {},
   "outputs": [],
   "source": []
  },
  {
   "cell_type": "code",
   "execution_count": 5,
   "id": "372cde4b",
   "metadata": {},
   "outputs": [],
   "source": [
    "capacidad = df.groupby(['fecha', 'area']).sum().reset_index().sort_values(['area', 'fecha'])"
   ]
  },
  {
   "cell_type": "code",
   "execution_count": 6,
   "id": "3649694d",
   "metadata": {},
   "outputs": [],
   "source": [
    "capacidad = capacidad.reset_index()"
   ]
  },
  {
   "cell_type": "code",
   "execution_count": 7,
   "id": "71efffa6",
   "metadata": {},
   "outputs": [],
   "source": [
    "capacidad = capacidad.drop('index', axis=1).rename(columns={'cap_maxima':'minutos_totales_disponibles'})"
   ]
  },
  {
   "cell_type": "code",
   "execution_count": null,
   "id": "409bb252",
   "metadata": {},
   "outputs": [],
   "source": []
  },
  {
   "cell_type": "code",
   "execution_count": 8,
   "id": "be54690b",
   "metadata": {},
   "outputs": [],
   "source": [
    "ingresos = pd.read_excel('../Ingresos por categoria -Actualizado 31-05.xlsx', sheet_name='BASE')"
   ]
  },
  {
   "cell_type": "code",
   "execution_count": 9,
   "id": "249644e8",
   "metadata": {},
   "outputs": [],
   "source": [
    "ingresos = ingresos.groupby(['Fecha_Informe', 'route_criteria_cd', 'modelo_de_capacidad']).sum().reset_index()"
   ]
  },
  {
   "cell_type": "code",
   "execution_count": 10,
   "id": "c656d3f3",
   "metadata": {},
   "outputs": [],
   "source": [
    "ingresos.rename(columns={'Fecha_Informe':'fecha', 'route_criteria_cd':'area', \n",
    "                         'COUNT_of__Cálculo1':'minutos_requeridos', 'modelo_de_capacidad':'categoria'}, inplace=True)"
   ]
  },
  {
   "cell_type": "code",
   "execution_count": 11,
   "id": "b7e0a345",
   "metadata": {},
   "outputs": [],
   "source": [
    "ingresos.minutos_requeridos = ingresos.minutos_requeridos * 60"
   ]
  },
  {
   "cell_type": "code",
   "execution_count": 12,
   "id": "6513d61a",
   "metadata": {},
   "outputs": [],
   "source": [
    "ingresos.categoria = np.where(ingresos.categoria == 'DOM - SERVICE P', 'P', 'NP')"
   ]
  },
  {
   "cell_type": "code",
   "execution_count": 13,
   "id": "ad8e55e7",
   "metadata": {},
   "outputs": [],
   "source": [
    "ingresos = ingresos.set_index(['fecha','area', 'categoria'])['minutos_requeridos'].unstack().reset_index().sort_values(['area', 'fecha'])"
   ]
  },
  {
   "cell_type": "code",
   "execution_count": 14,
   "id": "f4d6c587",
   "metadata": {},
   "outputs": [],
   "source": [
    "ingresos = ingresos.dropna(axis=0)"
   ]
  },
  {
   "cell_type": "code",
   "execution_count": null,
   "id": "097839e7",
   "metadata": {},
   "outputs": [],
   "source": []
  },
  {
   "cell_type": "code",
   "execution_count": 15,
   "id": "1e3abb49",
   "metadata": {},
   "outputs": [],
   "source": [
    "porcentajes_actuales = pd.read_excel('../Porcentajes Actuales.xlsx')"
   ]
  },
  {
   "cell_type": "code",
   "execution_count": 16,
   "id": "0354f4c7",
   "metadata": {},
   "outputs": [],
   "source": [
    "porcentajes_actuales = porcentajes_actuales.drop(porcentajes_actuales[porcentajes_actuales['CATEGORIAS'] == 'DOM - SERVICE T'].index).rename(columns={'ROUTE':'area'}).drop(['CATEGORIAS', '% Dist'], axis=1)"
   ]
  },
  {
   "cell_type": "code",
   "execution_count": null,
   "id": "5dcfce67",
   "metadata": {},
   "outputs": [],
   "source": []
  },
  {
   "cell_type": "code",
   "execution_count": 17,
   "id": "7b1fa43f",
   "metadata": {},
   "outputs": [],
   "source": [
    "tabla = capacidad.merge(ingresos, on=['fecha', 'area']).rename(columns={'NP':'minutos_requeridos_no_prioritario', \n",
    "                                                                        'P':'minutos_requeridos_prioritario'})"
   ]
  },
  {
   "cell_type": "code",
   "execution_count": 18,
   "id": "85eed9e9",
   "metadata": {},
   "outputs": [],
   "source": [
    "resultados = {}\n",
    "resultados_np = {}\n",
    "\n",
    "for area in tabla.area.unique():\n",
    "    \n",
    "    data = tabla[tabla.area == area]\n",
    "    residuos= []\n",
    "    residuos_np = []\n",
    "    \n",
    "    # Porcentajes de 1 a 99\n",
    "    for i in np.arange(1,100):\n",
    "    \n",
    "        porcentaje = i/100\n",
    "    \n",
    "        data['disponibles_prioritario'] = data.minutos_totales_disponibles * porcentaje\n",
    "        data['disponibles_no_prioritario'] = data.minutos_totales_disponibles * (1 - porcentaje)\n",
    "    \n",
    "        data['residuo_prioritario'] = np.abs(data.disponibles_prioritario - data.minutos_requeridos_prioritario)\n",
    "        data['residuo_no_prioritario'] = np.abs(data.disponibles_no_prioritario - data.minutos_requeridos_no_prioritario)\n",
    "    \n",
    "        residuo = round(data.residuo_prioritario.sum(),0)\n",
    "        residuos.append(residuo)\n",
    "        \n",
    "        residuo_np = round(data.residuo_no_prioritario.sum(),0)\n",
    "        residuos_np.append(residuo_np)\n",
    "        \n",
    "    resultados[area] = residuos\n",
    "    resultados_np[area] = residuos_np"
   ]
  },
  {
   "cell_type": "code",
   "execution_count": 19,
   "id": "c8dbbd9e",
   "metadata": {},
   "outputs": [
    {
     "data": {
      "text/plain": [
       "dict_keys(['11CPDSTO', '11ZADSTO', '12BEDMT1', '12BEDMT2', '12LPDSCE', '12LPDST1', '12LPDST2', '13MPDST1', '13MPDST2', '13MPDST3', '13TADSTO', '14BBDSTO', '14TRDSTO', '15CIDSTO', '15GRDSTO', '15NEDSTO', '21DEDSTO', '21PADST1', '21SADSTO', '22BODST1', '22BODST2', '22BODST3', '22PADSTO', '22REDSTO', '22STDST1', '22STDST2', '22STDST3', '23BODSTO', '23MUDST1', '23OLDST1', '23TIDST1', '23TIDST2', '24ITDST1', '24ITDST2', '24ITDST3', '24ITDST4', '24LUDSTO', '24RMDST1', '24RMDST2', '24RMDST3', '24RMDST4', '24SMDST3', '25AVDSCE', '25AVDSTO', '25BUDSCE', '25BUDST1', '25BUDST2', '25BUDST3', '25BUDST4', '25BUDST5', '25MGDSCE', '25MGDSTO', '25QUDSCE', '25QUDST1', '25QUDST2', '25QUDST3', '25QUDST4', '41CPDSTO', '41SFDSTO', '41VMDSTO', '42RCDSTO', '51RODMT5', '51RODMT6', '51RODST1', '51RODST2', '51RODST3', '51RODST4', '51RODST5', '52RFDSTO', '52SFDST1', '52SFDST2', '52SFDST3', '53VTDMTO', '54CUDSTO', '54GCDSTO', '54PADST2', '54PADSTO', '55CODSTO', '55PODSTO', '56FODSTO', '56REDSTO', '62SADSTO'])"
      ]
     },
     "execution_count": 19,
     "metadata": {},
     "output_type": "execute_result"
    }
   ],
   "source": [
    "resultados.keys()"
   ]
  },
  {
   "cell_type": "code",
   "execution_count": null,
   "id": "8457c72d",
   "metadata": {},
   "outputs": [],
   "source": []
  },
  {
   "cell_type": "code",
   "execution_count": null,
   "id": "b900914b",
   "metadata": {},
   "outputs": [],
   "source": []
  },
  {
   "cell_type": "code",
   "execution_count": null,
   "id": "c7fe4198",
   "metadata": {},
   "outputs": [],
   "source": []
  },
  {
   "cell_type": "code",
   "execution_count": null,
   "id": "c54ee706",
   "metadata": {},
   "outputs": [],
   "source": []
  },
  {
   "cell_type": "code",
   "execution_count": null,
   "id": "02a92fd0",
   "metadata": {},
   "outputs": [],
   "source": []
  },
  {
   "cell_type": "code",
   "execution_count": null,
   "id": "d6c653e3",
   "metadata": {},
   "outputs": [],
   "source": []
  },
  {
   "cell_type": "code",
   "execution_count": null,
   "id": "a3023d1c",
   "metadata": {},
   "outputs": [],
   "source": []
  },
  {
   "cell_type": "code",
   "execution_count": null,
   "id": "45211236",
   "metadata": {},
   "outputs": [],
   "source": []
  },
  {
   "cell_type": "code",
   "execution_count": null,
   "id": "05e67ebe",
   "metadata": {},
   "outputs": [],
   "source": []
  },
  {
   "cell_type": "code",
   "execution_count": null,
   "id": "f312b3a3",
   "metadata": {},
   "outputs": [],
   "source": []
  },
  {
   "cell_type": "code",
   "execution_count": null,
   "id": "1d248a12",
   "metadata": {},
   "outputs": [],
   "source": []
  },
  {
   "cell_type": "code",
   "execution_count": null,
   "id": "43843c98",
   "metadata": {},
   "outputs": [],
   "source": []
  },
  {
   "cell_type": "code",
   "execution_count": null,
   "id": "690152f7",
   "metadata": {},
   "outputs": [],
   "source": []
  },
  {
   "cell_type": "code",
   "execution_count": null,
   "id": "475b540a",
   "metadata": {},
   "outputs": [],
   "source": []
  },
  {
   "cell_type": "code",
   "execution_count": null,
   "id": "b81d821d",
   "metadata": {},
   "outputs": [],
   "source": []
  },
  {
   "cell_type": "code",
   "execution_count": 24,
   "id": "0fdba8ef",
   "metadata": {},
   "outputs": [],
   "source": [
    "def grafico_variable(col):\n",
    "        \n",
    "    plt.figure(figsize=(14,8))\n",
    "    plt.title('Residuo acumulado en funcion del porcentaje asignado a Prioritarios')\n",
    "    sns.scatterplot(x=np.arange(1,100), y=resultados[col])\n",
    "    sns.scatterplot(x=np.arange(1,100), y=resultados_np[col])\n",
    "    \n",
    "    valor = porcentajes_actuales[porcentajes_actuales.area==col]['Porcentaje']\n",
    "    plt.scatter(valor, resultados[col][valor.values[0]], marker='o', s=200, color='red')\n",
    "    \n",
    "    print('Valor mínimo para un porcentaje de', resultados[col].index(min(resultados[col])))\n",
    "    print('Valor actual', valor.values[0])"
   ]
  },
  {
   "cell_type": "code",
   "execution_count": 25,
   "id": "393a090d",
   "metadata": {},
   "outputs": [
    {
     "data": {
      "application/vnd.jupyter.widget-view+json": {
       "model_id": "6eadf75d3019421b8a5e3227ba6ce6c5",
       "version_major": 2,
       "version_minor": 0
      },
      "text/plain": [
       "interactive(children=(Dropdown(description='col', options=('11CPDSTO', '11ZADSTO', '12BEDMT1', '12BEDMT2', '12…"
      ]
     },
     "metadata": {},
     "output_type": "display_data"
    }
   ],
   "source": [
    "interact(grafico_variable, col=tabla.area.unique());"
   ]
  },
  {
   "cell_type": "code",
   "execution_count": null,
   "id": "13e9682d",
   "metadata": {},
   "outputs": [],
   "source": []
  },
  {
   "cell_type": "code",
   "execution_count": null,
   "id": "f7b378c1",
   "metadata": {},
   "outputs": [],
   "source": []
  },
  {
   "cell_type": "code",
   "execution_count": null,
   "id": "6d36babf",
   "metadata": {},
   "outputs": [],
   "source": []
  },
  {
   "cell_type": "code",
   "execution_count": null,
   "id": "2c248d59",
   "metadata": {},
   "outputs": [],
   "source": []
  },
  {
   "cell_type": "code",
   "execution_count": null,
   "id": "b99141f3",
   "metadata": {},
   "outputs": [],
   "source": []
  },
  {
   "cell_type": "code",
   "execution_count": null,
   "id": "581bad14",
   "metadata": {},
   "outputs": [],
   "source": []
  },
  {
   "cell_type": "code",
   "execution_count": null,
   "id": "476d3385",
   "metadata": {},
   "outputs": [],
   "source": [
    "# import plotly.graph_objects as go\n",
    "# from plotly.subplots import make_subplots\n",
    "# from plotly import tools"
   ]
  },
  {
   "cell_type": "code",
   "execution_count": null,
   "id": "e69cee9c",
   "metadata": {},
   "outputs": [],
   "source": [
    "# fig = go.Figure()\n",
    "\n",
    "# fig.add_trace(go.Scatter(x=np.arange(1,100), y=[resultados['11ZADSTO'], r, mode=\"markers\"))\n",
    "\n",
    "# #fig.add_trace(go.Scatter(x=np.arange(1,100), y=resultados_np['11ZADSTO'], mode=\"markers\"))\n",
    "\n",
    "\n",
    "# fig.update_layout(\n",
    "#     font_family=\"Averta\",\n",
    "#     hoverlabel_font_family=\"Averta\",\n",
    "#     title_text=\"Basic Scatter Plot\",\n",
    "#     xaxis_title_text=\"x\",\n",
    "#     xaxis_title_font_size=18,\n",
    "#     xaxis_tickfont_size=16,\n",
    "#     yaxis_title_text=\"y\",\n",
    "#     yaxis_title_font_size=18,\n",
    "#     yaxis_tickfont_size=16,\n",
    "#     hoverlabel_font_size=16,\n",
    "#     height=600, \n",
    "#     width=600\n",
    "# )\n",
    "# fig.show()"
   ]
  },
  {
   "cell_type": "code",
   "execution_count": null,
   "id": "17136511",
   "metadata": {},
   "outputs": [],
   "source": [
    "# fig = go.Figure()\n",
    "\n",
    "# fig.add_trace(go.Scatter(x=np.arange(1,100), y=[resultados['11ZADSTO'],resultados_np['11ZADSTO']], mode=\"markers\"))\n",
    "\n",
    "# # fig.add_trace(go.Scatter(x=np.arange(1,100), y=resultados_np['11ZADSTO'], mode=\"markers\"))\n",
    "\n",
    "# # trace1 = go.Scatter(x=np.arange(1,100), y=resultados['11ZADSTO'], mode=\"markers\")\n",
    "\n",
    "# # trace2 = go.Scatter(x=np.arange(1,100), y=resultados_np['11ZADSTO'], mode=\"markers\")\n",
    "\n",
    "# cols = pd.DataFrame.from_dict(resultados).columns\n",
    "\n",
    "# my_buttons = [dict(method = \"restyle\",\n",
    "#                    args = [{'y': [ resultados[c], resultados_np[c] ]}],\n",
    "#                    label = c) for k, c in enumerate(cols)]\n",
    "\n",
    "# fig.update_layout(font_family=\"Averta\",\n",
    "#     hoverlabel_font_family=\"Averta\",\n",
    "#     title_text=\"Basic Scatter Plot\",\n",
    "#     xaxis_title_text=\"x\",\n",
    "#     xaxis_title_font_size=18,\n",
    "#     xaxis_tickfont_size=16,\n",
    "#     yaxis_title_text=\"y\",\n",
    "#     yaxis_title_font_size=18,\n",
    "#     yaxis_tickfont_size=16,\n",
    "#     hoverlabel_font_size=16,\n",
    "#     height=600, \n",
    "#     width=600,\n",
    "    \n",
    "    \n",
    "#                  updatemenus=[dict(active=0,\n",
    "#                                    x= 1, y=1, \n",
    "#                                    xanchor='left', \n",
    "#                                    yanchor='top',\n",
    "#                                    buttons=my_buttons)\n",
    "#                               ])"
   ]
  },
  {
   "cell_type": "code",
   "execution_count": null,
   "id": "9a60fb13",
   "metadata": {},
   "outputs": [],
   "source": []
  },
  {
   "cell_type": "code",
   "execution_count": null,
   "id": "c2bbb8c4",
   "metadata": {},
   "outputs": [],
   "source": []
  },
  {
   "cell_type": "code",
   "execution_count": null,
   "id": "54da1236",
   "metadata": {},
   "outputs": [],
   "source": []
  },
  {
   "cell_type": "code",
   "execution_count": null,
   "id": "ba30bc75",
   "metadata": {},
   "outputs": [],
   "source": []
  },
  {
   "cell_type": "code",
   "execution_count": null,
   "id": "94080898",
   "metadata": {},
   "outputs": [],
   "source": []
  },
  {
   "cell_type": "code",
   "execution_count": null,
   "id": "53b7553a",
   "metadata": {},
   "outputs": [],
   "source": []
  }
 ],
 "metadata": {
  "kernelspec": {
   "display_name": "Python 3 (ipykernel)",
   "language": "python",
   "name": "python3"
  },
  "language_info": {
   "codemirror_mode": {
    "name": "ipython",
    "version": 3
   },
   "file_extension": ".py",
   "mimetype": "text/x-python",
   "name": "python",
   "nbconvert_exporter": "python",
   "pygments_lexer": "ipython3",
   "version": "3.8.8"
  },
  "widgets": {
   "application/vnd.jupyter.widget-state+json": {
    "state": {
     "003919e776a54740ad3f1ec51b993c68": {
      "model_module": "@jupyter-widgets/controls",
      "model_module_version": "1.5.0",
      "model_name": "DropdownModel",
      "state": {
       "_options_labels": [
        "11CPDSTO",
        "11ZADSTO",
        "12BEDMT1",
        "12BEDMT2",
        "12LPDSCE",
        "12LPDST1",
        "12LPDST2",
        "13MPDST1",
        "13MPDST2",
        "13MPDST3",
        "13TADSTO",
        "14BBDSTO",
        "14TRDSTO",
        "15CIDSTO",
        "15GRDSTO",
        "15NEDSTO",
        "21DEDSTO",
        "21PADST1",
        "21SADSTO",
        "22BODST1",
        "22BODST2",
        "22BODST3",
        "22PADSTO",
        "22REDSTO",
        "22STDST1",
        "22STDST2",
        "22STDST3",
        "23BODSTO",
        "23MUDST1",
        "23OLDST1",
        "23TIDST1",
        "23TIDST2",
        "24ITDST1",
        "24ITDST2",
        "24ITDST3",
        "24ITDST4",
        "24LUDSTO",
        "24RMDST1",
        "24RMDST2",
        "24RMDST3",
        "24RMDST4",
        "24SMDST3",
        "25AVDSCE",
        "25AVDSTO",
        "25BUDSCE",
        "25BUDST1",
        "25BUDST2",
        "25BUDST3",
        "25BUDST4",
        "25BUDST5",
        "25MGDSCE",
        "25MGDSTO",
        "25QUDSCE",
        "25QUDST1",
        "25QUDST2",
        "25QUDST3",
        "25QUDST4",
        "41CPDSTO",
        "41SFDSTO",
        "41VMDSTO",
        "42RCDSTO",
        "51RODMT5",
        "51RODMT6",
        "51RODST1",
        "51RODST2",
        "51RODST3",
        "51RODST4",
        "51RODST5",
        "52RFDSTO",
        "52SFDST1",
        "52SFDST2",
        "52SFDST3",
        "53VTDMTO",
        "54CUDSTO",
        "54GCDSTO",
        "54PADST2",
        "54PADSTO",
        "55CODSTO",
        "55PODSTO",
        "56FODSTO",
        "56REDSTO",
        "62SADSTO"
       ],
       "description": "col",
       "index": 1,
       "layout": "IPY_MODEL_237b7a7d86ef48018c8afe175c79b028",
       "style": "IPY_MODEL_a502652f44894269ae904db4800c6a74"
      }
     },
     "0073ea51c4f24490a0de2fcd773c3cd8": {
      "model_module": "@jupyter-widgets/controls",
      "model_module_version": "1.5.0",
      "model_name": "SliderStyleModel",
      "state": {
       "description_width": ""
      }
     },
     "02d1a9a1b4a941f3853c516250d2590f": {
      "model_module": "@jupyter-widgets/controls",
      "model_module_version": "1.5.0",
      "model_name": "DescriptionStyleModel",
      "state": {
       "description_width": ""
      }
     },
     "063aed4defe94e6a827de04aa5af613f": {
      "model_module": "@jupyter-widgets/base",
      "model_module_version": "1.2.0",
      "model_name": "LayoutModel",
      "state": {}
     },
     "0ca4b638981d4a4f88c0c415909fb63b": {
      "model_module": "@jupyter-widgets/controls",
      "model_module_version": "1.5.0",
      "model_name": "DescriptionStyleModel",
      "state": {
       "description_width": ""
      }
     },
     "0e02399dcb5f470fa15180ff9cca34f2": {
      "model_module": "@jupyter-widgets/output",
      "model_module_version": "1.0.0",
      "model_name": "OutputModel",
      "state": {
       "layout": "IPY_MODEL_6174e994e8d94c1aba147388c8be92e8",
       "outputs": [
        {
         "name": "stdout",
         "output_type": "stream",
         "text": "Valor mínimo para un porcentaje de 32\nValor actual 34\n"
        },
        {
         "data": {
          "image/png": "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\n",
          "text/plain": "<Figure size 1008x576 with 1 Axes>"
         },
         "metadata": {
          "needs_background": "light"
         },
         "output_type": "display_data"
        }
       ]
      }
     },
     "11783e9fe4f4455190b202b92c00e874": {
      "model_module": "@jupyter-widgets/output",
      "model_module_version": "1.0.0",
      "model_name": "OutputModel",
      "state": {
       "layout": "IPY_MODEL_3c6eaa5dd79a478aae8a08f4f3790f18",
       "outputs": [
        {
         "name": "stdout",
         "output_type": "stream",
         "text": "Valor mínimo para un porcentaje de 24\nValor actual 43\n"
        },
        {
         "data": {
          "image/png": "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\n",
          "text/plain": "<Figure size 1008x576 with 1 Axes>"
         },
         "metadata": {
          "needs_background": "light"
         },
         "output_type": "display_data"
        }
       ]
      }
     },
     "1193991f83764dacbdba7fa1c840d68e": {
      "model_module": "@jupyter-widgets/base",
      "model_module_version": "1.2.0",
      "model_name": "LayoutModel",
      "state": {}
     },
     "178ba1f342e341c592b34da1586e1566": {
      "model_module": "@jupyter-widgets/controls",
      "model_module_version": "1.5.0",
      "model_name": "SliderStyleModel",
      "state": {
       "description_width": ""
      }
     },
     "1de42a42ce864730aa33aaa931f9b9d4": {
      "model_module": "@jupyter-widgets/base",
      "model_module_version": "1.2.0",
      "model_name": "LayoutModel",
      "state": {}
     },
     "1ec699594dff4dce88f95d74f5deb561": {
      "model_module": "@jupyter-widgets/controls",
      "model_module_version": "1.5.0",
      "model_name": "SliderStyleModel",
      "state": {
       "description_width": ""
      }
     },
     "2016057bea09413f8c1516c07e69df6e": {
      "model_module": "@jupyter-widgets/controls",
      "model_module_version": "1.5.0",
      "model_name": "DescriptionStyleModel",
      "state": {
       "description_width": ""
      }
     },
     "21b49d5dad4f4780896ba86dc683fe18": {
      "model_module": "@jupyter-widgets/base",
      "model_module_version": "1.2.0",
      "model_name": "LayoutModel",
      "state": {}
     },
     "21fc552fcebb4447b08264ab3668de48": {
      "model_module": "@jupyter-widgets/base",
      "model_module_version": "1.2.0",
      "model_name": "LayoutModel",
      "state": {}
     },
     "2203a9d1da794f2ebc31b284df1d976b": {
      "model_module": "@jupyter-widgets/output",
      "model_module_version": "1.0.0",
      "model_name": "OutputModel",
      "state": {
       "layout": "IPY_MODEL_cec56385bf4f4c0d85b0e709b0279364",
       "outputs": [
        {
         "name": "stdout",
         "output_type": "stream",
         "text": "Valor mínimo para un porcentaje de 24\nValor actual 43\n"
        },
        {
         "data": {
          "image/png": "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\n",
          "text/plain": "<Figure size 1008x576 with 1 Axes>"
         },
         "metadata": {
          "needs_background": "light"
         },
         "output_type": "display_data"
        }
       ]
      }
     },
     "237b7a7d86ef48018c8afe175c79b028": {
      "model_module": "@jupyter-widgets/base",
      "model_module_version": "1.2.0",
      "model_name": "LayoutModel",
      "state": {}
     },
     "2a411ee45e1944b7b4f3c35a18e15264": {
      "model_module": "@jupyter-widgets/base",
      "model_module_version": "1.2.0",
      "model_name": "LayoutModel",
      "state": {}
     },
     "2e1fe663ba4e4a2aaa1b216c5ff3aeab": {
      "model_module": "@jupyter-widgets/base",
      "model_module_version": "1.2.0",
      "model_name": "LayoutModel",
      "state": {}
     },
     "2fb9d990f9e94bf886616e505197773c": {
      "model_module": "@jupyter-widgets/controls",
      "model_module_version": "1.5.0",
      "model_name": "DropdownModel",
      "state": {
       "_options_labels": [
        "11CPDSTO",
        "11ZADSTO",
        "12BEDMT1",
        "12BEDMT2",
        "12LPDSCE",
        "12LPDST1",
        "12LPDST2",
        "13MPDST1",
        "13MPDST2",
        "13MPDST3",
        "13TADSTO",
        "14BBDSTO",
        "14TRDSTO",
        "15CIDSTO",
        "15GRDSTO",
        "15NEDSTO",
        "21DEDSTO",
        "21PADST1",
        "21SADSTO",
        "22BODST1",
        "22BODST2",
        "22BODST3",
        "22PADSTO",
        "22REDSTO",
        "22STDST1",
        "22STDST2",
        "22STDST3",
        "23BODSTO",
        "23MUDST1",
        "23OLDST1",
        "23TIDST1",
        "23TIDST2",
        "24ITDST1",
        "24ITDST2",
        "24ITDST3",
        "24ITDST4",
        "24LUDSTO",
        "24RMDST1",
        "24RMDST2",
        "24RMDST3",
        "24RMDST4",
        "24SMDST3",
        "25AVDSCE",
        "25AVDSTO",
        "25BUDSCE",
        "25BUDST1",
        "25BUDST2",
        "25BUDST3",
        "25BUDST4",
        "25BUDST5",
        "25MGDSCE",
        "25MGDSTO",
        "25QUDSCE",
        "25QUDST1",
        "25QUDST2",
        "25QUDST3",
        "25QUDST4",
        "41CPDSTO",
        "41SFDSTO",
        "41VMDSTO",
        "42RCDSTO",
        "51RODMT5",
        "51RODMT6",
        "51RODST1",
        "51RODST2",
        "51RODST3",
        "51RODST4",
        "51RODST5",
        "52RFDSTO",
        "52SFDST1",
        "52SFDST2",
        "52SFDST3",
        "53VTDMTO",
        "54CUDSTO",
        "54GCDSTO",
        "54PADST2",
        "54PADSTO",
        "55CODSTO",
        "55PODSTO",
        "56FODSTO",
        "56REDSTO",
        "62SADSTO"
       ],
       "description": "col",
       "index": 0,
       "layout": "IPY_MODEL_5a7a9018ba7f465d94373cff6b588f74",
       "style": "IPY_MODEL_3d96084a4de9421180b95274f8036bd5"
      }
     },
     "3216aada71344700998f104c922c195e": {
      "model_module": "@jupyter-widgets/controls",
      "model_module_version": "1.5.0",
      "model_name": "IntSliderModel",
      "state": {
       "layout": "IPY_MODEL_755d35da1f2446ee8aa88b26c7347a90",
       "max": 200,
       "style": "IPY_MODEL_3b21711157144fbc8d324e336a6bf3ab",
       "value": 100
      }
     },
     "342ef6cd84054f94b1992a599299cf02": {
      "model_module": "@jupyter-widgets/base",
      "model_module_version": "1.2.0",
      "model_name": "LayoutModel",
      "state": {}
     },
     "376af855146f41338f4eb4c9e97aa093": {
      "model_module": "@jupyter-widgets/controls",
      "model_module_version": "1.5.0",
      "model_name": "DescriptionStyleModel",
      "state": {
       "description_width": ""
      }
     },
     "37765539268943318d638216bdf9aeac": {
      "model_module": "@jupyter-widgets/controls",
      "model_module_version": "1.5.0",
      "model_name": "VBoxModel",
      "state": {
       "_dom_classes": [
        "widget-interact"
       ],
       "children": [
        "IPY_MODEL_003919e776a54740ad3f1ec51b993c68",
        "IPY_MODEL_f97670d5fa78477481dd3259eb801589"
       ],
       "layout": "IPY_MODEL_342ef6cd84054f94b1992a599299cf02"
      }
     },
     "381953a3420d49f6a1a1ed3086a9ad89": {
      "model_module": "@jupyter-widgets/controls",
      "model_module_version": "1.5.0",
      "model_name": "VBoxModel",
      "state": {
       "_dom_classes": [
        "widget-interact"
       ],
       "children": [
        "IPY_MODEL_7bddb0fd1b5a4caeaad7d01a94f66b1b",
        "IPY_MODEL_0e02399dcb5f470fa15180ff9cca34f2"
       ],
       "layout": "IPY_MODEL_83f4b30b10384a0db890a24fef7bf620"
      }
     },
     "396d04a8f68e42cfbf7d612248951d57": {
      "model_module": "@jupyter-widgets/controls",
      "model_module_version": "1.5.0",
      "model_name": "DropdownModel",
      "state": {
       "_options_labels": [
        "11CPDSTO",
        "11ZADSTO",
        "12BEDMT1",
        "12BEDMT2",
        "12LPDSCE",
        "12LPDST1",
        "12LPDST2",
        "13MPDST1",
        "13MPDST2",
        "13MPDST3",
        "13TADSTO",
        "14BBDSTO",
        "14TRDSTO",
        "15CIDSTO",
        "15GRDSTO",
        "15NEDSTO",
        "21DEDSTO",
        "21PADST1",
        "21SADSTO",
        "22BODST1",
        "22BODST2",
        "22BODST3",
        "22PADSTO",
        "22REDSTO",
        "22STDST1",
        "22STDST2",
        "22STDST3",
        "23BODSTO",
        "23MUDST1",
        "23OLDST1",
        "23TIDST1",
        "23TIDST2",
        "24ITDST1",
        "24ITDST2",
        "24ITDST3",
        "24ITDST4",
        "24LUDSTO",
        "24RMDST1",
        "24RMDST2",
        "24RMDST3",
        "24RMDST4",
        "24SMDST3",
        "25AVDSCE",
        "25AVDSTO",
        "25BUDSCE",
        "25BUDST1",
        "25BUDST2",
        "25BUDST3",
        "25BUDST4",
        "25BUDST5",
        "25MGDSCE",
        "25MGDSTO",
        "25QUDSCE",
        "25QUDST1",
        "25QUDST2",
        "25QUDST3",
        "25QUDST4",
        "41CPDSTO",
        "41SFDSTO",
        "41VMDSTO",
        "42RCDSTO",
        "51RODMT5",
        "51RODMT6",
        "51RODST1",
        "51RODST2",
        "51RODST3",
        "51RODST4",
        "51RODST5",
        "52RFDSTO",
        "52SFDST1",
        "52SFDST2",
        "52SFDST3",
        "53VTDMTO",
        "54CUDSTO",
        "54GCDSTO",
        "54PADST2",
        "54PADSTO",
        "55CODSTO",
        "55PODSTO",
        "56FODSTO",
        "56REDSTO",
        "62SADSTO"
       ],
       "description": "col",
       "index": 0,
       "layout": "IPY_MODEL_4832d9ae8d4b4544b7ed01e3d4381c00",
       "style": "IPY_MODEL_bac499d301d64010983400fe276c38bd"
      }
     },
     "3b21711157144fbc8d324e336a6bf3ab": {
      "model_module": "@jupyter-widgets/controls",
      "model_module_version": "1.5.0",
      "model_name": "SliderStyleModel",
      "state": {
       "description_width": ""
      }
     },
     "3c6eaa5dd79a478aae8a08f4f3790f18": {
      "model_module": "@jupyter-widgets/base",
      "model_module_version": "1.2.0",
      "model_name": "LayoutModel",
      "state": {}
     },
     "3d96084a4de9421180b95274f8036bd5": {
      "model_module": "@jupyter-widgets/controls",
      "model_module_version": "1.5.0",
      "model_name": "DescriptionStyleModel",
      "state": {
       "description_width": ""
      }
     },
     "3e636766fac5486abda7b292d4eae8f5": {
      "model_module": "@jupyter-widgets/controls",
      "model_module_version": "1.5.0",
      "model_name": "VBoxModel",
      "state": {
       "_dom_classes": [
        "widget-interact"
       ],
       "children": [
        "IPY_MODEL_396d04a8f68e42cfbf7d612248951d57",
        "IPY_MODEL_11783e9fe4f4455190b202b92c00e874"
       ],
       "layout": "IPY_MODEL_eaca3fbc423a4159b2ebf8b81d5c450f"
      }
     },
     "41120f1594184f77a989b8e9b9ee681d": {
      "model_module": "@jupyter-widgets/base",
      "model_module_version": "1.2.0",
      "model_name": "LayoutModel",
      "state": {}
     },
     "4816dfcb27454488ae00667df29133c7": {
      "model_module": "@jupyter-widgets/controls",
      "model_module_version": "1.5.0",
      "model_name": "DropdownModel",
      "state": {
       "_options_labels": [
        "11CPDSTO",
        "11ZADSTO",
        "12BEDMT1",
        "12BEDMT2",
        "12LPDSCE",
        "12LPDST1",
        "12LPDST2",
        "13MPDST1",
        "13MPDST2",
        "13MPDST3",
        "13TADSTO",
        "14BBDSTO",
        "14TRDSTO",
        "15CIDSTO",
        "15GRDSTO",
        "15NEDSTO",
        "21DEDSTO",
        "21PADST1",
        "21SADSTO",
        "22BODST1",
        "22BODST2",
        "22BODST3",
        "22PADSTO",
        "22REDSTO",
        "22STDST1",
        "22STDST2",
        "22STDST3",
        "23BODSTO",
        "23MUDST1",
        "23OLDST1",
        "23TIDST1",
        "23TIDST2",
        "24ITDST1",
        "24ITDST2",
        "24ITDST3",
        "24ITDST4",
        "24LUDSTO",
        "24RMDST1",
        "24RMDST2",
        "24RMDST3",
        "24RMDST4",
        "24SMDST3",
        "25AVDSCE",
        "25AVDSTO",
        "25BUDSCE",
        "25BUDST1",
        "25BUDST2",
        "25BUDST3",
        "25BUDST4",
        "25BUDST5",
        "25MGDSCE",
        "25MGDSTO",
        "25QUDSCE",
        "25QUDST1",
        "25QUDST2",
        "25QUDST3",
        "25QUDST4",
        "41CPDSTO",
        "41SFDSTO",
        "41VMDSTO",
        "42RCDSTO",
        "51RODMT5",
        "51RODMT6",
        "51RODST1",
        "51RODST2",
        "51RODST3",
        "51RODST4",
        "51RODST5",
        "52RFDSTO",
        "52SFDST1",
        "52SFDST2",
        "52SFDST3",
        "53VTDMTO",
        "54CUDSTO",
        "54GCDSTO",
        "54PADST2",
        "54PADSTO",
        "55CODSTO",
        "55PODSTO",
        "56FODSTO",
        "56REDSTO",
        "62SADSTO"
       ],
       "description": "col",
       "index": 74,
       "layout": "IPY_MODEL_1193991f83764dacbdba7fa1c840d68e",
       "style": "IPY_MODEL_e2573af950704cb78b9d6250ef407861"
      }
     },
     "4832d9ae8d4b4544b7ed01e3d4381c00": {
      "model_module": "@jupyter-widgets/base",
      "model_module_version": "1.2.0",
      "model_name": "LayoutModel",
      "state": {}
     },
     "4bca5a207c9345938bbbabcb2985e193": {
      "model_module": "@jupyter-widgets/controls",
      "model_module_version": "1.5.0",
      "model_name": "DropdownModel",
      "state": {
       "_options_labels": [
        "11CPDSTO",
        "11ZADSTO",
        "12BEDMT1",
        "12BEDMT2",
        "12LPDSCE",
        "12LPDST1",
        "12LPDST2",
        "13MPDST1",
        "13MPDST2",
        "13MPDST3",
        "13TADSTO",
        "14BBDSTO",
        "14TRDSTO",
        "15CIDSTO",
        "15GRDSTO",
        "15NEDSTO",
        "21DEDSTO",
        "21PADST1",
        "21SADSTO",
        "22BODST1",
        "22BODST2",
        "22BODST3",
        "22PADSTO",
        "22REDSTO",
        "22STDST1",
        "22STDST2",
        "22STDST3",
        "23BODSTO",
        "23MUDST1",
        "23OLDST1",
        "23TIDST1",
        "23TIDST2",
        "24ITDST1",
        "24ITDST2",
        "24ITDST3",
        "24ITDST4",
        "24LUDSTO",
        "24RMDST1",
        "24RMDST2",
        "24RMDST3",
        "24RMDST4",
        "24SMDST3",
        "25AVDSCE",
        "25AVDSTO",
        "25BUDSCE",
        "25BUDST1",
        "25BUDST2",
        "25BUDST3",
        "25BUDST4",
        "25BUDST5",
        "25MGDSCE",
        "25MGDSTO",
        "25QUDSCE",
        "25QUDST1",
        "25QUDST2",
        "25QUDST3",
        "25QUDST4",
        "41CPDSTO",
        "41SFDSTO",
        "41VMDSTO",
        "42RCDSTO",
        "51RODMT5",
        "51RODMT6",
        "51RODST1",
        "51RODST2",
        "51RODST3",
        "51RODST4",
        "51RODST5",
        "52RFDSTO",
        "52SFDST1",
        "52SFDST2",
        "52SFDST3",
        "53VTDMTO",
        "54CUDSTO",
        "54GCDSTO",
        "54PADST2",
        "54PADSTO",
        "55CODSTO",
        "55PODSTO",
        "56FODSTO",
        "56REDSTO",
        "62SADSTO"
       ],
       "description": "col",
       "index": 0,
       "layout": "IPY_MODEL_e17c8b2da9d24185b063485eeb5c84f5",
       "style": "IPY_MODEL_02d1a9a1b4a941f3853c516250d2590f"
      }
     },
     "4f6afa6db011421baaae724bc32d60fb": {
      "model_module": "@jupyter-widgets/controls",
      "model_module_version": "1.5.0",
      "model_name": "VBoxModel",
      "state": {
       "_dom_classes": [
        "widget-interact"
       ],
       "children": [
        "IPY_MODEL_2fb9d990f9e94bf886616e505197773c",
        "IPY_MODEL_cb559882afbb4fc3a7adf799de678d8c"
       ],
       "layout": "IPY_MODEL_2e1fe663ba4e4a2aaa1b216c5ff3aeab"
      }
     },
     "51f3e23b98de4edaaf8bc225b5b9e48c": {
      "model_module": "@jupyter-widgets/controls",
      "model_module_version": "1.5.0",
      "model_name": "DropdownModel",
      "state": {
       "_options_labels": [
        "11CPDSTO",
        "11ZADSTO",
        "12BEDMT1",
        "12BEDMT2",
        "12LPDSCE",
        "12LPDST1",
        "12LPDST2",
        "13MPDST1",
        "13MPDST2",
        "13MPDST3",
        "13TADSTO",
        "14BBDSTO",
        "14TRDSTO",
        "15CIDSTO",
        "15GRDSTO",
        "15NEDSTO",
        "21DEDSTO",
        "21PADST1",
        "21SADSTO",
        "22BODST1",
        "22BODST2",
        "22BODST3",
        "22PADSTO",
        "22REDSTO",
        "22STDST1",
        "22STDST2",
        "22STDST3",
        "23BODSTO",
        "23MUDST1",
        "23OLDST1",
        "23TIDST1",
        "23TIDST2",
        "24ITDST1",
        "24ITDST2",
        "24ITDST3",
        "24ITDST4",
        "24LUDSTO",
        "24RMDST1",
        "24RMDST2",
        "24RMDST3",
        "24RMDST4",
        "24SMDST3",
        "25AVDSCE",
        "25AVDSTO",
        "25BUDSCE",
        "25BUDST1",
        "25BUDST2",
        "25BUDST3",
        "25BUDST4",
        "25BUDST5",
        "25MGDSCE",
        "25MGDSTO",
        "25QUDSCE",
        "25QUDST1",
        "25QUDST2",
        "25QUDST3",
        "25QUDST4",
        "41CPDSTO",
        "41SFDSTO",
        "41VMDSTO",
        "42RCDSTO",
        "51RODMT5",
        "51RODMT6",
        "51RODST1",
        "51RODST2",
        "51RODST3",
        "51RODST4",
        "51RODST5",
        "52RFDSTO",
        "52SFDST1",
        "52SFDST2",
        "52SFDST3",
        "53VTDMTO",
        "54CUDSTO",
        "54GCDSTO",
        "54PADST2",
        "54PADSTO",
        "55CODSTO",
        "55PODSTO",
        "56FODSTO",
        "56REDSTO",
        "62SADSTO"
       ],
       "description": "col",
       "index": 8,
       "layout": "IPY_MODEL_f775821abcdb4f9ca530343157b903f0",
       "style": "IPY_MODEL_0ca4b638981d4a4f88c0c415909fb63b"
      }
     },
     "54ae4469c25a426e84219cb3f948b8f8": {
      "model_module": "@jupyter-widgets/controls",
      "model_module_version": "1.5.0",
      "model_name": "SliderStyleModel",
      "state": {
       "description_width": ""
      }
     },
     "5887df009ba04db2b8ee85d84116e211": {
      "model_module": "@jupyter-widgets/base",
      "model_module_version": "1.2.0",
      "model_name": "LayoutModel",
      "state": {}
     },
     "5a7a9018ba7f465d94373cff6b588f74": {
      "model_module": "@jupyter-widgets/base",
      "model_module_version": "1.2.0",
      "model_name": "LayoutModel",
      "state": {}
     },
     "6174e994e8d94c1aba147388c8be92e8": {
      "model_module": "@jupyter-widgets/base",
      "model_module_version": "1.2.0",
      "model_name": "LayoutModel",
      "state": {}
     },
     "681ddc1d1ae04284a749e5a988429228": {
      "model_module": "@jupyter-widgets/base",
      "model_module_version": "1.2.0",
      "model_name": "LayoutModel",
      "state": {}
     },
     "68f48994cf8d46d9a950fb552fb6cfec": {
      "model_module": "@jupyter-widgets/base",
      "model_module_version": "1.2.0",
      "model_name": "LayoutModel",
      "state": {}
     },
     "6e710747082744c5af2a0f70f56aa6c7": {
      "model_module": "@jupyter-widgets/controls",
      "model_module_version": "1.5.0",
      "model_name": "IntSliderModel",
      "state": {
       "layout": "IPY_MODEL_b999c6d47efe44b29246bb3920130972",
       "style": "IPY_MODEL_178ba1f342e341c592b34da1586e1566",
       "value": 40
      }
     },
     "73e4fb18789b4e81981e8440a73a92db": {
      "model_module": "@jupyter-widgets/controls",
      "model_module_version": "1.5.0",
      "model_name": "IntSliderModel",
      "state": {
       "layout": "IPY_MODEL_8f088796687b406eacb3b5979b2f58d0",
       "style": "IPY_MODEL_54ae4469c25a426e84219cb3f948b8f8",
       "value": 40
      }
     },
     "755d35da1f2446ee8aa88b26c7347a90": {
      "model_module": "@jupyter-widgets/base",
      "model_module_version": "1.2.0",
      "model_name": "LayoutModel",
      "state": {}
     },
     "78333fc334bf46fb8e354e20d603fb4f": {
      "model_module": "@jupyter-widgets/controls",
      "model_module_version": "1.5.0",
      "model_name": "DropdownModel",
      "state": {
       "_options_labels": [
        "11CPDSTO",
        "11ZADSTO",
        "12BEDMT1",
        "12BEDMT2",
        "12LPDSCE",
        "12LPDST1",
        "12LPDST2",
        "13MPDST1",
        "13MPDST2",
        "13MPDST3",
        "13TADSTO",
        "14BBDSTO",
        "14TRDSTO",
        "15CIDSTO",
        "15GRDSTO",
        "15NEDSTO",
        "21DEDSTO",
        "21PADST1",
        "21SADSTO",
        "22BODST1",
        "22BODST2",
        "22BODST3",
        "22PADSTO",
        "22REDSTO",
        "22STDST1",
        "22STDST2",
        "22STDST3",
        "23BODSTO",
        "23MUDST1",
        "23OLDST1",
        "23TIDST1",
        "23TIDST2",
        "24ITDST1",
        "24ITDST2",
        "24ITDST3",
        "24ITDST4",
        "24LUDSTO",
        "24RMDST1",
        "24RMDST2",
        "24RMDST3",
        "24RMDST4",
        "24SMDST3",
        "25AVDSCE",
        "25AVDSTO",
        "25BUDSCE",
        "25BUDST1",
        "25BUDST2",
        "25BUDST3",
        "25BUDST4",
        "25BUDST5",
        "25MGDSCE",
        "25MGDSTO",
        "25QUDSCE",
        "25QUDST1",
        "25QUDST2",
        "25QUDST3",
        "25QUDST4",
        "41CPDSTO",
        "41SFDSTO",
        "41VMDSTO",
        "42RCDSTO",
        "51RODMT5",
        "51RODMT6",
        "51RODST1",
        "51RODST2",
        "51RODST3",
        "51RODST4",
        "51RODST5",
        "52RFDSTO",
        "52SFDST1",
        "52SFDST2",
        "52SFDST3",
        "53VTDMTO",
        "54CUDSTO",
        "54GCDSTO",
        "54PADST2",
        "54PADSTO",
        "55CODSTO",
        "55PODSTO",
        "56FODSTO",
        "56REDSTO",
        "62SADSTO"
       ],
       "description": "col",
       "index": 0,
       "layout": "IPY_MODEL_41120f1594184f77a989b8e9b9ee681d",
       "style": "IPY_MODEL_376af855146f41338f4eb4c9e97aa093"
      }
     },
     "79e85275576a48bc918372f2ad99f1a7": {
      "model_module": "@jupyter-widgets/controls",
      "model_module_version": "1.5.0",
      "model_name": "SliderStyleModel",
      "state": {
       "description_width": ""
      }
     },
     "7bddb0fd1b5a4caeaad7d01a94f66b1b": {
      "model_module": "@jupyter-widgets/controls",
      "model_module_version": "1.5.0",
      "model_name": "DropdownModel",
      "state": {
       "_options_labels": [
        "11CPDSTO",
        "11ZADSTO",
        "12BEDMT1",
        "12BEDMT2",
        "12LPDSCE",
        "12LPDST1",
        "12LPDST2",
        "13MPDST1",
        "13MPDST2",
        "13MPDST3",
        "13TADSTO",
        "14BBDSTO",
        "14TRDSTO",
        "15CIDSTO",
        "15GRDSTO",
        "15NEDSTO",
        "21DEDSTO",
        "21PADST1",
        "21SADSTO",
        "22BODST1",
        "22BODST2",
        "22BODST3",
        "22PADSTO",
        "22REDSTO",
        "22STDST1",
        "22STDST2",
        "22STDST3",
        "23BODSTO",
        "23MUDST1",
        "23OLDST1",
        "23TIDST1",
        "23TIDST2",
        "24ITDST1",
        "24ITDST2",
        "24ITDST3",
        "24ITDST4",
        "24LUDSTO",
        "24RMDST1",
        "24RMDST2",
        "24RMDST3",
        "24RMDST4",
        "24SMDST3",
        "25AVDSCE",
        "25AVDSTO",
        "25BUDSCE",
        "25BUDST1",
        "25BUDST2",
        "25BUDST3",
        "25BUDST4",
        "25BUDST5",
        "25MGDSCE",
        "25MGDSTO",
        "25QUDSCE",
        "25QUDST1",
        "25QUDST2",
        "25QUDST3",
        "25QUDST4",
        "41CPDSTO",
        "41SFDSTO",
        "41VMDSTO",
        "42RCDSTO",
        "51RODMT5",
        "51RODMT6",
        "51RODST1",
        "51RODST2",
        "51RODST3",
        "51RODST4",
        "51RODST5",
        "52RFDSTO",
        "52SFDST1",
        "52SFDST2",
        "52SFDST3",
        "53VTDMTO",
        "54CUDSTO",
        "54GCDSTO",
        "54PADST2",
        "54PADSTO",
        "55CODSTO",
        "55PODSTO",
        "56FODSTO",
        "56REDSTO",
        "62SADSTO"
       ],
       "description": "col",
       "index": 10,
       "layout": "IPY_MODEL_dc29f27f7b6d4b8d8b74c242b04c48a5",
       "style": "IPY_MODEL_2016057bea09413f8c1516c07e69df6e"
      }
     },
     "7bf06b29a6a847b5a3924fe9ed8a7409": {
      "buffers": [
       {
        "data": "AAAAAAAAAACHROdKGFfmP4dE50oYV/Y/ZXMtOFLBAECHROdKGFcGQKkVoV3e7AtAZXMtOFLBEED2W4pBNYwTQIdE50oYVxZAGC1EVPshGUA=",
        "encoding": "base64",
        "path": [
         "_data",
         0,
         "x",
         "value"
        ]
       },
       {
        "data": "AAAAAAAAAAAcFjxSt5HkPxccgYyLg+8/q0xY6Hq26z/4C4p0qOPVP/QLinSo49W/qUxY6Hq2678YHIGMi4Pvvx8WPFK3keS/B1wUMyamsbw=",
        "encoding": "base64",
        "path": [
         "_data",
         0,
         "y",
         "value"
        ]
       }
      ],
      "model_module": "jupyterlab-plotly",
      "model_module_version": "^5.3.1",
      "model_name": "FigureModel",
      "state": {
       "_config": {
        "plotlyServerURL": "https://plot.ly"
       },
       "_data": [
        {
         "selectedpoints": [
          4,
          5
         ],
         "type": "scatter",
         "uid": "c41f3079-7788-497c-ba6e-71262f286500",
         "x": {
          "dtype": "float64",
          "shape": [
           10
          ],
          "value": {}
         },
         "y": {
          "dtype": "float64",
          "shape": [
           10
          ],
          "value": {}
         }
        }
       ],
       "_js2py_restyle": {},
       "_js2py_update": {},
       "_last_layout_edit_id": 3,
       "_last_trace_edit_id": 1,
       "_layout": {
        "autosize": true,
        "dragmode": "select",
        "template": {
         "data": {
          "bar": [
           {
            "error_x": {
             "color": "#2a3f5f"
            },
            "error_y": {
             "color": "#2a3f5f"
            },
            "marker": {
             "line": {
              "color": "#E5ECF6",
              "width": 0.5
             },
             "pattern": {
              "fillmode": "overlay",
              "size": 10,
              "solidity": 0.2
             }
            },
            "type": "bar"
           }
          ],
          "barpolar": [
           {
            "marker": {
             "line": {
              "color": "#E5ECF6",
              "width": 0.5
             },
             "pattern": {
              "fillmode": "overlay",
              "size": 10,
              "solidity": 0.2
             }
            },
            "type": "barpolar"
           }
          ],
          "carpet": [
           {
            "aaxis": {
             "endlinecolor": "#2a3f5f",
             "gridcolor": "white",
             "linecolor": "white",
             "minorgridcolor": "white",
             "startlinecolor": "#2a3f5f"
            },
            "baxis": {
             "endlinecolor": "#2a3f5f",
             "gridcolor": "white",
             "linecolor": "white",
             "minorgridcolor": "white",
             "startlinecolor": "#2a3f5f"
            },
            "type": "carpet"
           }
          ],
          "choropleth": [
           {
            "colorbar": {
             "outlinewidth": 0,
             "ticks": ""
            },
            "type": "choropleth"
           }
          ],
          "contour": [
           {
            "colorbar": {
             "outlinewidth": 0,
             "ticks": ""
            },
            "colorscale": [
             [
              0,
              "#0d0887"
             ],
             [
              0.1111111111111111,
              "#46039f"
             ],
             [
              0.2222222222222222,
              "#7201a8"
             ],
             [
              0.3333333333333333,
              "#9c179e"
             ],
             [
              0.4444444444444444,
              "#bd3786"
             ],
             [
              0.5555555555555556,
              "#d8576b"
             ],
             [
              0.6666666666666666,
              "#ed7953"
             ],
             [
              0.7777777777777778,
              "#fb9f3a"
             ],
             [
              0.8888888888888888,
              "#fdca26"
             ],
             [
              1,
              "#f0f921"
             ]
            ],
            "type": "contour"
           }
          ],
          "contourcarpet": [
           {
            "colorbar": {
             "outlinewidth": 0,
             "ticks": ""
            },
            "type": "contourcarpet"
           }
          ],
          "heatmap": [
           {
            "colorbar": {
             "outlinewidth": 0,
             "ticks": ""
            },
            "colorscale": [
             [
              0,
              "#0d0887"
             ],
             [
              0.1111111111111111,
              "#46039f"
             ],
             [
              0.2222222222222222,
              "#7201a8"
             ],
             [
              0.3333333333333333,
              "#9c179e"
             ],
             [
              0.4444444444444444,
              "#bd3786"
             ],
             [
              0.5555555555555556,
              "#d8576b"
             ],
             [
              0.6666666666666666,
              "#ed7953"
             ],
             [
              0.7777777777777778,
              "#fb9f3a"
             ],
             [
              0.8888888888888888,
              "#fdca26"
             ],
             [
              1,
              "#f0f921"
             ]
            ],
            "type": "heatmap"
           }
          ],
          "heatmapgl": [
           {
            "colorbar": {
             "outlinewidth": 0,
             "ticks": ""
            },
            "colorscale": [
             [
              0,
              "#0d0887"
             ],
             [
              0.1111111111111111,
              "#46039f"
             ],
             [
              0.2222222222222222,
              "#7201a8"
             ],
             [
              0.3333333333333333,
              "#9c179e"
             ],
             [
              0.4444444444444444,
              "#bd3786"
             ],
             [
              0.5555555555555556,
              "#d8576b"
             ],
             [
              0.6666666666666666,
              "#ed7953"
             ],
             [
              0.7777777777777778,
              "#fb9f3a"
             ],
             [
              0.8888888888888888,
              "#fdca26"
             ],
             [
              1,
              "#f0f921"
             ]
            ],
            "type": "heatmapgl"
           }
          ],
          "histogram": [
           {
            "marker": {
             "pattern": {
              "fillmode": "overlay",
              "size": 10,
              "solidity": 0.2
             }
            },
            "type": "histogram"
           }
          ],
          "histogram2d": [
           {
            "colorbar": {
             "outlinewidth": 0,
             "ticks": ""
            },
            "colorscale": [
             [
              0,
              "#0d0887"
             ],
             [
              0.1111111111111111,
              "#46039f"
             ],
             [
              0.2222222222222222,
              "#7201a8"
             ],
             [
              0.3333333333333333,
              "#9c179e"
             ],
             [
              0.4444444444444444,
              "#bd3786"
             ],
             [
              0.5555555555555556,
              "#d8576b"
             ],
             [
              0.6666666666666666,
              "#ed7953"
             ],
             [
              0.7777777777777778,
              "#fb9f3a"
             ],
             [
              0.8888888888888888,
              "#fdca26"
             ],
             [
              1,
              "#f0f921"
             ]
            ],
            "type": "histogram2d"
           }
          ],
          "histogram2dcontour": [
           {
            "colorbar": {
             "outlinewidth": 0,
             "ticks": ""
            },
            "colorscale": [
             [
              0,
              "#0d0887"
             ],
             [
              0.1111111111111111,
              "#46039f"
             ],
             [
              0.2222222222222222,
              "#7201a8"
             ],
             [
              0.3333333333333333,
              "#9c179e"
             ],
             [
              0.4444444444444444,
              "#bd3786"
             ],
             [
              0.5555555555555556,
              "#d8576b"
             ],
             [
              0.6666666666666666,
              "#ed7953"
             ],
             [
              0.7777777777777778,
              "#fb9f3a"
             ],
             [
              0.8888888888888888,
              "#fdca26"
             ],
             [
              1,
              "#f0f921"
             ]
            ],
            "type": "histogram2dcontour"
           }
          ],
          "mesh3d": [
           {
            "colorbar": {
             "outlinewidth": 0,
             "ticks": ""
            },
            "type": "mesh3d"
           }
          ],
          "parcoords": [
           {
            "line": {
             "colorbar": {
              "outlinewidth": 0,
              "ticks": ""
             }
            },
            "type": "parcoords"
           }
          ],
          "pie": [
           {
            "automargin": true,
            "type": "pie"
           }
          ],
          "scatter": [
           {
            "marker": {
             "colorbar": {
              "outlinewidth": 0,
              "ticks": ""
             }
            },
            "type": "scatter"
           }
          ],
          "scatter3d": [
           {
            "line": {
             "colorbar": {
              "outlinewidth": 0,
              "ticks": ""
             }
            },
            "marker": {
             "colorbar": {
              "outlinewidth": 0,
              "ticks": ""
             }
            },
            "type": "scatter3d"
           }
          ],
          "scattercarpet": [
           {
            "marker": {
             "colorbar": {
              "outlinewidth": 0,
              "ticks": ""
             }
            },
            "type": "scattercarpet"
           }
          ],
          "scattergeo": [
           {
            "marker": {
             "colorbar": {
              "outlinewidth": 0,
              "ticks": ""
             }
            },
            "type": "scattergeo"
           }
          ],
          "scattergl": [
           {
            "marker": {
             "colorbar": {
              "outlinewidth": 0,
              "ticks": ""
             }
            },
            "type": "scattergl"
           }
          ],
          "scattermapbox": [
           {
            "marker": {
             "colorbar": {
              "outlinewidth": 0,
              "ticks": ""
             }
            },
            "type": "scattermapbox"
           }
          ],
          "scatterpolar": [
           {
            "marker": {
             "colorbar": {
              "outlinewidth": 0,
              "ticks": ""
             }
            },
            "type": "scatterpolar"
           }
          ],
          "scatterpolargl": [
           {
            "marker": {
             "colorbar": {
              "outlinewidth": 0,
              "ticks": ""
             }
            },
            "type": "scatterpolargl"
           }
          ],
          "scatterternary": [
           {
            "marker": {
             "colorbar": {
              "outlinewidth": 0,
              "ticks": ""
             }
            },
            "type": "scatterternary"
           }
          ],
          "surface": [
           {
            "colorbar": {
             "outlinewidth": 0,
             "ticks": ""
            },
            "colorscale": [
             [
              0,
              "#0d0887"
             ],
             [
              0.1111111111111111,
              "#46039f"
             ],
             [
              0.2222222222222222,
              "#7201a8"
             ],
             [
              0.3333333333333333,
              "#9c179e"
             ],
             [
              0.4444444444444444,
              "#bd3786"
             ],
             [
              0.5555555555555556,
              "#d8576b"
             ],
             [
              0.6666666666666666,
              "#ed7953"
             ],
             [
              0.7777777777777778,
              "#fb9f3a"
             ],
             [
              0.8888888888888888,
              "#fdca26"
             ],
             [
              1,
              "#f0f921"
             ]
            ],
            "type": "surface"
           }
          ],
          "table": [
           {
            "cells": {
             "fill": {
              "color": "#EBF0F8"
             },
             "line": {
              "color": "white"
             }
            },
            "header": {
             "fill": {
              "color": "#C8D4E3"
             },
             "line": {
              "color": "white"
             }
            },
            "type": "table"
           }
          ]
         },
         "layout": {
          "annotationdefaults": {
           "arrowcolor": "#2a3f5f",
           "arrowhead": 0,
           "arrowwidth": 1
          },
          "autotypenumbers": "strict",
          "coloraxis": {
           "colorbar": {
            "outlinewidth": 0,
            "ticks": ""
           }
          },
          "colorscale": {
           "diverging": [
            [
             0,
             "#8e0152"
            ],
            [
             0.1,
             "#c51b7d"
            ],
            [
             0.2,
             "#de77ae"
            ],
            [
             0.3,
             "#f1b6da"
            ],
            [
             0.4,
             "#fde0ef"
            ],
            [
             0.5,
             "#f7f7f7"
            ],
            [
             0.6,
             "#e6f5d0"
            ],
            [
             0.7,
             "#b8e186"
            ],
            [
             0.8,
             "#7fbc41"
            ],
            [
             0.9,
             "#4d9221"
            ],
            [
             1,
             "#276419"
            ]
           ],
           "sequential": [
            [
             0,
             "#0d0887"
            ],
            [
             0.1111111111111111,
             "#46039f"
            ],
            [
             0.2222222222222222,
             "#7201a8"
            ],
            [
             0.3333333333333333,
             "#9c179e"
            ],
            [
             0.4444444444444444,
             "#bd3786"
            ],
            [
             0.5555555555555556,
             "#d8576b"
            ],
            [
             0.6666666666666666,
             "#ed7953"
            ],
            [
             0.7777777777777778,
             "#fb9f3a"
            ],
            [
             0.8888888888888888,
             "#fdca26"
            ],
            [
             1,
             "#f0f921"
            ]
           ],
           "sequentialminus": [
            [
             0,
             "#0d0887"
            ],
            [
             0.1111111111111111,
             "#46039f"
            ],
            [
             0.2222222222222222,
             "#7201a8"
            ],
            [
             0.3333333333333333,
             "#9c179e"
            ],
            [
             0.4444444444444444,
             "#bd3786"
            ],
            [
             0.5555555555555556,
             "#d8576b"
            ],
            [
             0.6666666666666666,
             "#ed7953"
            ],
            [
             0.7777777777777778,
             "#fb9f3a"
            ],
            [
             0.8888888888888888,
             "#fdca26"
            ],
            [
             1,
             "#f0f921"
            ]
           ]
          },
          "colorway": [
           "#636efa",
           "#EF553B",
           "#00cc96",
           "#ab63fa",
           "#FFA15A",
           "#19d3f3",
           "#FF6692",
           "#B6E880",
           "#FF97FF",
           "#FECB52"
          ],
          "font": {
           "color": "#2a3f5f"
          },
          "geo": {
           "bgcolor": "white",
           "lakecolor": "white",
           "landcolor": "#E5ECF6",
           "showlakes": true,
           "showland": true,
           "subunitcolor": "white"
          },
          "hoverlabel": {
           "align": "left"
          },
          "hovermode": "closest",
          "mapbox": {
           "style": "light"
          },
          "paper_bgcolor": "white",
          "plot_bgcolor": "#E5ECF6",
          "polar": {
           "angularaxis": {
            "gridcolor": "white",
            "linecolor": "white",
            "ticks": ""
           },
           "bgcolor": "#E5ECF6",
           "radialaxis": {
            "gridcolor": "white",
            "linecolor": "white",
            "ticks": ""
           }
          },
          "scene": {
           "xaxis": {
            "backgroundcolor": "#E5ECF6",
            "gridcolor": "white",
            "gridwidth": 2,
            "linecolor": "white",
            "showbackground": true,
            "ticks": "",
            "zerolinecolor": "white"
           },
           "yaxis": {
            "backgroundcolor": "#E5ECF6",
            "gridcolor": "white",
            "gridwidth": 2,
            "linecolor": "white",
            "showbackground": true,
            "ticks": "",
            "zerolinecolor": "white"
           },
           "zaxis": {
            "backgroundcolor": "#E5ECF6",
            "gridcolor": "white",
            "gridwidth": 2,
            "linecolor": "white",
            "showbackground": true,
            "ticks": "",
            "zerolinecolor": "white"
           }
          },
          "shapedefaults": {
           "line": {
            "color": "#2a3f5f"
           }
          },
          "ternary": {
           "aaxis": {
            "gridcolor": "white",
            "linecolor": "white",
            "ticks": ""
           },
           "baxis": {
            "gridcolor": "white",
            "linecolor": "white",
            "ticks": ""
           },
           "bgcolor": "#E5ECF6",
           "caxis": {
            "gridcolor": "white",
            "linecolor": "white",
            "ticks": ""
           }
          },
          "title": {
           "x": 0.05
          },
          "xaxis": {
           "automargin": true,
           "gridcolor": "white",
           "linecolor": "white",
           "ticks": "",
           "title": {
            "standoff": 15
           },
           "zerolinecolor": "white",
           "zerolinewidth": 2
          },
          "yaxis": {
           "automargin": true,
           "gridcolor": "white",
           "linecolor": "white",
           "ticks": "",
           "title": {
            "standoff": 15
           },
           "zerolinecolor": "white",
           "zerolinewidth": 2
          }
         }
        }
       },
       "_py2js_addTraces": {},
       "_py2js_animate": {},
       "_py2js_deleteTraces": {},
       "_py2js_moveTraces": {},
       "_py2js_removeLayoutProps": {},
       "_py2js_removeTraceProps": {},
       "_py2js_update": {},
       "_view_count": 0
      }
     },
     "7c91f693a0614fdd8a102137253cdc11": {
      "model_module": "@jupyter-widgets/output",
      "model_module_version": "1.0.0",
      "model_name": "OutputModel",
      "state": {
       "layout": "IPY_MODEL_681ddc1d1ae04284a749e5a988429228",
       "outputs": [
        {
         "name": "stdout",
         "output_type": "stream",
         "text": "Valor mínimo para un porcentaje de 30\nValor actual 25\n"
        },
        {
         "data": {
          "image/png": "iVBORw0KGgoAAAANSUhEUgAAA0IAAAHiCAYAAADF3XyzAAAAOXRFWHRTb2Z0d2FyZQBNYXRwbG90bGliIHZlcnNpb24zLjUuMCwgaHR0cHM6Ly9tYXRwbG90bGliLm9yZy8/fFQqAAAACXBIWXMAAAsTAAALEwEAmpwYAABG9UlEQVR4nO3dfdxcdX3n/9cnEAGJIJCICMQQjSK4La6XyNbGpbVdY4pC+1ML1YKVLkj1h13sr0jbXd12u9Wt1TZrVUBdsN4g1aJogZZqrWmLaFipimAhIUoKgYSgJNEgMJ/fH+dMMrkyM2euubnm7vV8PK7HzHXO3HxnrjNznc/5fr/vE5mJJEmSJE2TBcNugCRJkiTNNwshSZIkSVPHQkiSJEnS1LEQkiRJkjR1LIQkSZIkTR0LIUmSJElTx0JImhIR8ZqI+Ns2678UEb8+n20aFRFxRUT8jy7v+/aI+Gi/29RFO34xIu6JiB0R8bwBPcfS8vH3G8Tjz3qujrfHiMiIeOag2zQqqj7LA3rO2yLi1Pl8zvJ5R+LzNVtEXB8R53R5375/jiLidyLig/16PGlaWAhJIygiNkbEj8p/lpvLHfVFvTxmZn4sM/9Tv9qokfMu4E2ZuSgzvz6IJ8jM75WP//ggHn9azbUQH8ZnOTNPzMwvzedzzqfyb/Dj8jt3W0TcGBHHt7p9Zr4sM6/s5rlmf476cRAqM/9nZk7lgSypFxZC0uh6eWYuAk4CngdcMtzmaMQ9Hbht2I2YVBGx/7DboIH7X+V37jHAA8AVs28Qha73nQaxHbltSt2zEJJGXGZuBv6GoiACICJOiYh/jojvR8S/NA5ZiYjXRcSGiNgeEXdHxGsalv9jw+1+PiLuiIgfRMR7gWhYt9dwlIhYVg4/2r/8/WkRcW155PSuiPjPrdofEb8QEV+PiIfLoVtvn7X+pxteyz0R8bpy+V5HSZu0PyPiNyLizvK1/kFEPCMibiqf6+qIeEKz+zbcf5/hVBFxWER8PiK2RMRD5fVjGtYfFxH/UD7njcDiWfd/RTmM6Pvla3hOm/fm+PLI87aI+E5EvLph3RUR8ecR8dflc90cEc9o8hgHRMQOYD/gXyJifbPX19jrEBGnRsSmiHhLRDwQEfdFxK813PagiPiTiPhuuX38Y7ms4+2g3IaujoiPlO2/LSJm2rwXLbfHcv3rI+L28m/yNxHx9FaPNet+X4qIP4qIr5aP/dmIOLxhfcu/VxQ9sxdHxDeAnRGxf5vt9YCIeFdEfC8i7o+ID0TEQVXvd0ScB7wG+O0oeiM+Vy5/a0SsL9+7b0fELza0a/ZnoeV21OT9+LXyfdwexffE+Q3rFpfb+/fLx1ob5U5/+V78XHn9oIi4svxb3B4Rvx0Rm2a9b78VEd8o3/NPRsSB5brDYv4+X39W/o0ejohbImJlq9s2yswfAh8Hnls+zpci4g8j4p+AHwLLo+H7KSIWRMTvRfF5eaDc5g8t19U/M+dGxPeALzYs2z8i/hBYCby3/Pu/t6rtUXy2PhURH42Ih4HXxb7f2e2264sj4t/K9/g7EfGSTt4XaRJZCEkjrtxJeBlwV/n70cBfA/8DOBz4LeDTEbEkIg4G1gAvy8wnAT8F3NrkMRcDnwZ+j2JHYz3wojk06xPAJuBpwCuB/9nmn+lO4GzgycAvABdExBllO5YC1wP/G1hCUezt0942VgHPB04Bfhu4jGKn8liKnZiz5vBYdQuA/0PRw7IU+BHw3ob1HwduoXjf/gDYPU8gIp5F8d78JsXruQ74XJQFWaPyb3Vj+XhPKdv6vog4seFmZwH/HTiM4u//h7MfJzMfKY9iA/xkZu5TLLXwVOBQ4GjgXODPI+Kwct27KN7Xn6LYxn4bqDV5jKrt4BXAVRR/+2vZ+33crWp7LLeX3wF+ieJ9XVs+d6fOBl5ftvMxis9Ip3+vsyi22yeX92+1vb4TeFa57JkU7+t/a3icpu93Zl4GfIyyNyIzX17efj3FDvKhFNvARyPiqNkvrMPtqNEDwGnAIcCvAe+JiH9frnsLxd9zCXAkxXueTR7jbcAyYDnw88Brm9zm1RSfz+OAnwBeVy6fl89X6WsUf4/Dy8f9y3pB1k4Uw5BfAzQOMf1V4DzgScB3Z93ldeXPz1C8J4vYd1v/j8BzgJc2LszM36XYnuvDWt/UYdtPBz5FsV1+bFb7W75PEfFs4E3AC8r/ES8FNrZ8M6RJl5n++OPPiP1Q/GPaAWyn2BH5AvDkct3FwF/Muv3fUOwwHAx8H/h/gINm3eZ1wD+W188GvtKwLih2gH69/P3twEcb1i8r27E/RZHxOPCkhvV/BFzR4Wv7U+A95fVLgGta3O5L9fbMbn/5ewIvavj9FuDiht//BPjTZvdtuP8zy+tXAP+jRTtOAh4qry+l2JE+uGH9x+vvFfBfgasb1i0A/g04tcnj/jKwdtayS4G3NbTpgw3rVgN3tHlfd7+eFr/vfo3AqRQ7oPs3rH+AoqBcUK77ySbP0fF2UG5Df9ew7gTgRy3aXrU9Xg+cO+t9/SHw9Gavtcl29I5Z7fgxRQ9a278Xxefw9Q3rm26vZXt3As9oWPYfgLur3u+q7a/h9rcCp8/enqu2ow4+j58B3lxe/33gs83ey/K9+Lny+gbgpQ3rfh3YNOu2r234/X8BH5jPz1eL53qIJtt1w99gF8X352aKwv0ZDdvQ7zfZrurb5xeA32hY92zgUYrPybJy+1ze7HM0+7E6aTvFZ+vLs9a/vZP3iaJIfwD4OWBhJ++bP/5M8o89QtLoOiOLI3anAsezZ4jI04FXlUMevh8R3wd+GjgqM3dS7Bi9AbgvimFVzSb8Pg24p/5LZmbj7xWeBmzLzO0Ny75LcaR7HxHxwoj4+3IozA/KttVfy7EUR767dX/D9R81+X3OARMR8cSIuLQc5vIw8GXgyVEkPD2NYqdtZ8NdGo8OP63x98ysUbyvzd6bpwMvnPV3fA1Fz0Hd5obrP+zm9bTxYGY+1uTxFwMHUv136WQ7mN3+A6P5fIaq7fHpwJ81vE/bKIqPpttcE42P9V1gIcXr7OTv1XjfVtvrEuCJwC0NbbyhXF7X6v1uKiLOjohbGx7vucwaJlbqZDtqfNyXRcRXohj69n2KArv+uH9M0fP4t1EMm3tri+bt9fei+XdH0213Hj9fRDEU8fYohud9n6J3rdl7WPeuzHxyZj41M1+RmY1/63bfj3u1q7y+P0WvWif376btHben8X3KzLsoeoreDjwQEVdFxNPm0jZpklgISSMuM/+B4mjlu8pF91D0CD254efgzHxHefu/ycyfB44C7gAub/Kw91Hs1AHFBODG3ymObj+x4ffGnap7gcMj4kkNy5ZSHHFs5uMUR1ePzcxDgQ+wZ/7HPUCroVzt2jBXez1WRLR7rLdQHNF9YWYeAry4fjeK9+2wcjhS3dKG6/dS7JjWn6f+vjZ7b+4B/mHW33FRZl4wh9fVzg/p7v3bSnFkvGqI3Vy3g3aqtsd7gPNnvVcHZeY/d/j4jY+1lOJo/VY6+3s1Dg1rtb1upSi8T2xo36G5Z8hilb2Gn0Ux/+lyiiFMR2Tmk4FvMWveVEObOtqOIuIAiiGI7wKOLB/3uvrjZub2zHxLZi4HXg5c1GLI630UgQJ1xza5TSvz8vkq59RcTDFE77Dytf6A5u9hJ5oNEWzaLvb0bDUemGl3/9l//07a3nF7Zr9PmfnxzPzp8jZJMaxTmkoWQtJ4+FPg5yPiJOCjwMsj4qURsV9EHBjFZOxjIuLIcpLswcAjFMPrmkUd/zVwYkT8UnmE/kL23lG+FXhxFOe7OJSGxLrMvAf4Z+CPyuf+CYo5D3uNU2/wJIqeg10RcTLwKw3rPgb8XES8OoqJw0eUr7Hehl8qjyA/s3yObv1L+XpPKsfZv73NbZ9EsVP7/Sgm1b+tviIzvwusA/57Od7+pyl2GOuuBn4hIl4SEQspdvoeoXi/Zvs88KyI+NWIWFj+vCDaTP6eo1uBXym3kVUUcxQqlUePPwy8O4owhP0i4j+UO9GNt5vrdtBO1fb4AeCSKOe9RMShEfGqOTz+ayPihIh4IsXwr09lEV08l78XtNhey/fscor5Nk8p23h0RLy0xePMdj/F3JK6gyl2ULeUj/VrlBP3m5jLdvQE4IDycR+LiJcBu2O4I+K0iHhmueP8MMV3R7Pvj6sp/h6HRTFn8U1NbtPKfH2+nkRRjGwB9o+I/0YxL2oQPgH8lyiCHhYB/xP45KwewHZm//17bXvL9ykinh0RP1t+nndR/C2Mw9fUshCSxkBmbgE+AvzXcgf0dIqJzFsojgj/fxSf5wUU//TupRg+9B+B32jyeFuBVwHvAB4EVgD/1LD+RuCTwDco5t58ftZDnEUxzv1e4BqK+Qg3tmj+bwC/HxHbKSaPX93wPN+jGJrzlrK9twI/Wa5+D8VcjvuBK+luB7v+PP9KsQP8d8CdwD+2ufmfAgdRHOX/CsUQp0a/ArywbO/bKP4u9ef5DsXE8f9d3v/lFDHoP27Spu0UO6FnUryPmymOzB4w+7ZdenP5/N+nGCr1mTnc97eAb1JM2N5WtqvZ/4u5bActdbA9XlO24aoohlN9iyJApFN/QdGrupli2N+F5eN2/Pcqb99ue72YYljZV8o2/h1Fz0cnPgScEMXQts9k5rcp5rjdRLH9/zsa3o9Zbep4OypveyHFZ/Ahim352oabrCjbvaN87vdl83MH/T7FHK67y9t/imJHuxN/yjx8vijmTV4P/CvFMLFdzHF42hx8mGIb+zLFe7IL+H/ncP8/A14ZRYreGnpse8X7dADF52wrxbbyFIr/JdJUimIotiRJkycivkQxifyDw25Lv0TE6ynCCH522G0BiIgLgDMzs6NeR0kaFfYISZI0Xk6k6HkYiog4KiJeFMX5c55N0UN2zbDaI0nd8mzEkiSNiYj4DMUQtrnMkeq3J1BEdB9HMfTyKuB9Q2yPJHXFoXGSJEmSpo5D4yRJkiRNHQshSZIkSVNnbOcILV68OJctWzbsZkiSJEkaUbfccsvWzFzSbN3YFkLLli1j3bp1w26GJEmSpBEVEd9ttc6hcZIkSZKmjoWQJEmSpKljISRJkiRp6lgISZIkSZo6FkKSJEmSpo6FkCRJkqSpYyEkSZIkaepYCEmSJEmaOhZCkiRJkqaOhZAkSZKkqWMhJEmSJGnqWAhJkiRJmjoWQpIkSZKmTmUhFBHHRsTfR8TtEXFbRLy5XP7HEXFHRHwjIq6JiCeXy5dFxI8i4tby5wMNj/X8iPhmRNwVEWsiIsrlB0TEJ8vlN0fEssG8XEmSJEnqrEfoMeAtmfkc4BTgjRFxAnAj8NzM/AngX4FLGu6zPjNPKn/e0LD8/cB5wIryZ1W5/Fzgocx8JvAe4J29vChJkiRJaqeyEMrM+zLz/5bXtwO3A0dn5t9m5mPlzb4CHNPucSLiKOCQzLwpMxP4CHBGufp04Mry+qeAl9R7iyRJkiSNgVoNtt4Jd68tLmu1YbeorTnNESqHrD0PuHnWqtcD1zf8flxEfD0i/iEiVpbLjgY2NdxmU7msvu4egLK4+gFwRJPnPy8i1kXEui1btsyl6ZIkSZIGpVaDOz4Hl66EK08rLu/43EgXQx0XQhGxCPg08JuZ+XDD8t+lGD73sXLRfcDSzHwecBHw8Yg4BGjWw5P1h2mzbs+CzMsycyYzZ5YsWdJp0yVJkiQN0rb1cM358OiPit8f/VHx+7b1w21XGx0VQhGxkKII+lhm/lXD8nOA04DXlMPdyMxHMvPB8votwHrgWRQ9QI3D544B7i2vbwKOLR9zf+BQYFv3L0uSJEnSvNm+eU8RVPfoj2DH5uG0pwOdpMYF8CHg9sx8d8PyVcDFwCsy84cNy5dExH7l9eUUoQgbMvM+YHtEnFI+5tnAZ8u7XQucU15/JfDFemElSZIkacQ96amw8KC9ly08CBY9dTjt6UAnPUIvAn4V+NmGSOzVwHuBJwE3zorJfjHwjYj4F4rggzdkZr135wLgg8BdFD1F9XlFHwKOiIi7KIbTvbUPr02SJElSP7UKRDj8GfCLl+4phhYeVPx++DOG19YKMa4dLzMzM7lu3bphN0OSJEmaDvVAhPpcoHqxc/zLYcGCYv229cVwuEVPLYqgBXPKZuu7iLglM2earRtuyyRJkiSNh6pAhAULYPEKWLayuBxyEVRltFsnSZIkaTSMYSBCOxZCkiRJkqqNYSBCOxZCkiRJkgqtwhBgLAMR2tl/2A2QJEmSNAKqwhAWLCiun3/CSAUidGs8Wy1JkiSpv6rCEGDsAhHaGd+WS5IkSeqfCQtDqGIhJEmSJGniwhCqWAhJkiRJ06RVIMKEhSFUMSxBkiRJmhZVgQgTFIZQZTJflSRJkqR9VQUiTFAYQpXJfWWSJEmS9jZlgQjtWAhJkiRJ02LKAhHasRCSJEmSpsWUBSK0Y1iCJEmSNGlqtWLez/bNRS9QPfRgygIR2rEQkiRJkiZJVTJcPRBh8Ypht3Sopq/0kyRJkiZZVTKcAAshSZIkabKYDNcRCyFJkiRpkpgM1xELIUmSJGkc1Wqw9U64e21xWasVy02G64hhCZIkSdK4qQpEMBmuku+GJEmSNG6qAhHqyXDLVhaXFkH78B2RJEmSxo2BCD2zEJIkSZLGjYEIPbMQkiRJkkZRqzAEMBChDwxLkCRJkkZNVRiCgQg9852SJEmSRk1VGAIYiNAj3y1JkiRp1BiGMHAWQpIkSdKoMQxh4CyEJEmSpGFpFYhgGMLAGZYgSZIkDUNVIIJhCAPlOylJkiQNQ1UggmEIA+W7KUmSJA2DgQhDZSEkSZIkDYOBCENlISRJkiQNkoEII8mwBEmSJGlQDEQYWb7LkiRJ0qAYiDCyfKclSZKkQTEQYWRZCEmSJEmDYiDCyLIQkiRJkgbFQISRZViCJEmS1KtarZj3s31z0QtUDz0wEGFkWQhJkiRJvahKhqsHIixeMeyWqoGlqCRJktSLqmQ4jSQLIUmSJKkXJsONpcpCKCKOjYi/j4jbI+K2iHhzufzwiLgxIu4sLw9ruM8lEXFXRHwnIl7asPz5EfHNct2aiIhy+QER8cly+c0RsWwAr1WSJEnqP5PhxlInPUKPAW/JzOcApwBvjIgTgLcCX8jMFcAXyt8p150JnAisAt4XEfuVj/V+4DxgRfmzqlx+LvBQZj4TeA/wzj68NkmSJKk/ajXYeifcvba4rNX2rDMZbixVhiVk5n3AfeX17RFxO3A0cDpwanmzK4EvAReXy6/KzEeAuyPiLuDkiNgIHJKZNwFExEeAM4Dry/u8vXysTwHvjYjIzOz5FUqSJEm96CQMwWS4sTOnv045ZO15wM3AkWWRVC+WnlLe7Gjgnoa7bSqXHV1en718r/tk5mPAD4Aj5tI2SZIkaSA6CUOoJ8MtW1lcWgSNvI7/QhGxCPg08JuZ+XC7mzZZlm2Wt7vP7DacFxHrImLdli1bqposSZIk9c4whInUUSEUEQspiqCPZeZflYvvj4ijyvVHAQ+UyzcBxzbc/Rjg3nL5MU2W73WfiNgfOBTYNrsdmXlZZs5k5sySJUs6abokSZLUG8MQJlInqXEBfAi4PTPf3bDqWuCc8vo5wGcblp9ZJsEdRxGK8NVy+Nz2iDilfMyzZ92n/livBL7o/CBJkiTNq1aBCIYhTKTKsATgRcCvAt+MiFvLZb8DvAO4OiLOBb4HvAogM2+LiKuBb1Mkzr0xMx8v73cBcAVwEEVIwvXl8g8Bf1EGK2yjSJ2TJEmS5kdVIIJhCBMnxrXjZWZmJtetWzfsZkiSJGkSbL0TLl2591yghQfB+WuL8AONpYi4JTNnmq2zjJUkSZIMRJg6FkKSJEmSgQhTx0JIkiRJ08NABJU6CUuQJEmSxp+BCGrgX1aSJEnTYdv6PUUQFJfXnF8sh6LoWbwClq0sLi2CJpp/XUmSJE0HAxHUwEJIkiRJ08FABDWwEJIkSdJ0MBBBDQxLkCRJ0mSp1Yp5P9s3F71A9dADAxHUwEJIkiRJk6MqGa4eiLB4xbBbqiGz/JUkSdLkqEqGk0oWQpIkSZocJsOpQxZCkiRJmhwmw6lDFkKSJEkaL7UabL0T7l5bXNZqe9aZDKcOGZYgSZKk8dFJGILJcOqAW4QkSZLGRydhCPVkuGUri0uLIDXhViFJkqTxYRiC+sRCSJIkSePDMAT1iYWQJEmSRk+rQATDENQnhiVIkiRptFQFIhiGoD5wi5EkSdJoqQpEMAxBfeBWI0mSpNFiIILmgYWQJEmSRouBCJoHFkKSJEkaDgMRNESGJUiSJGn+GYigIXNrkiRJ0vwzEEFD5hYlSZKk+WcggobMQkiSJEnzz0AEDZmFkCRJkuafgQgaMsMSJEmSNDi1WjHvZ/vmoheoHnpgIIKGzEJIkiRJg1GVDFcPRFi8Ytgt1RSy5JYkSdJgVCXDSUNkISRJkqTBMBlOI8xCSJIkSYNhMpxGmIWQJEmSulerwdY74e61xWWttmedyXAaYYYlSJIkqTudhCGYDKcR5VYoSZKk7nQShlBPhlu2sri0CNKIcEuUJElSdwxD0BizEJIkSVJ3DEPQGLMQkiRJUnutAhEMQ9AYMyxBkiRJrVUFIhiGoDHlVipJkqTWqgIRDEPQmHJLlSRJUmsGImhCWQhJkiSpNQMRNKEshCRJkmQggqZOZVhCRHwYOA14IDOfWy77JPDs8iZPBr6fmSdFxDLgduA75bqvZOYbyvs8H7gCOAi4DnhzZmZEHAB8BHg+8CDwy5m5sR8vTpIkSR0wEEFTqJMt+ApgVeOCzPzlzDwpM08CPg38VcPq9fV19SKo9H7gPGBF+VN/zHOBhzLzmcB7gHd280IkSZLUJQMRNIUqt+LM/DKwrdm6iAjg1cAn2j1GRBwFHJKZN2VmUvQAnVGuPh24srz+KeAl5eNKkiRpPhiIoCnUazm/Erg/M+9sWHZcRHw9Iv4hIlaWy44GNjXcZlO5rL7uHoDMfAz4AXBEj+2SJElSpwxE0BTqtRA6i717g+4Dlmbm84CLgI9HxCFAsx6eLC/brdtLRJwXEesiYt2WLVt6aLYkSdIUMhBB2q0yLKGViNgf+CWKkAMAMvMR4JHy+i0RsR54FkUP0DENdz8GuLe8vgk4FthUPuahtBiKl5mXAZcBzMzMNC2WJEmS1ISBCNJeetm6fw64IzN3D3mLiCURsV95fTlFKMKGzLwP2B4Rp5Tzf84GPlve7VrgnPL6K4EvlvOIJEmS1C8GIkh7qdzCI+ITwE3AsyNiU0ScW646k31DEl4MfCMi/oUi+OANmVnv3bkA+CBwF7AeuL5c/iHgiIi4i2I43Vt7eD2SJElqxkAEaS+VQ+My86wWy1/XZNmnKeK0m91+HfDcJst3Aa+qaockSZJ6UA9EaCyGDETQFLPPU5IkaRoYiCDtpeuwBEmSJI2YWq2Y87N9c9ED1Bh4YCCCtBcLIUmSpElQlQoHewIRFq8YblulEeAhAEmSpElQlQonaS8WQpIkSZPAVDhpTiyEJEmSJkE9Fa6RqXBSSxZCkiRJ46RWg613wt1ri8tarVhuKpw0J4YlSJIkjYuqQART4aSO+cmQJEkaF1WBCPVUuGUri0uLIKklPx2SJEnjwkAEqW8shCRJksaFgQhS31gISZIkjRoDEaSBMyxBkiRplBiIIM0LPzWSJEmjxEAEaV74yZEkSRolBiJI88JCSJIkaZQYiCDNCwshSZKkYTAQQRoqwxIkSZLmm4EI0tD5iZIkSZpvBiJIQ+enSpIkab4ZiCANnYWQJEnSfDMQQRo6CyFJkqT5ZiCCNHSGJUiSJA1CrVbM+dm+uegBagw8MBBBGjoLIUmSpH6rSoWDPYEIi1cMt63SlPKwgyRJUr9VpcJJGjoLIUmSpH4zFU4aeRZCkiRJ/WYqnDTyLIQkSZK6VavB1jvh7rXFZa1WLDcVThp5hiVIkiR1oyoQwVQ4aaT5aZQkSepGVSBCPRVu2cri0iJIGil+IiVJkrphIII01iyEJEmSumEggjTWLIQkSZLaMRBBmkiGJUiSJLViIII0sfykSpIktWIggjSx/LRKkiS1YiCCNLEshCRJkloxEEGaWBZCkiRJBiJIU8ewBEmSNN0MRJD6olZLNj64k/sf3sWRhxzIsiMOZsGCGHazWrIQkiRJ061VIML5J+wJQFi8oviR1FStltxw22YuuvpWdj1a48CFC3j3q09i1YlPHdliyMMZkiRpuhmIIPVs44M7dxdBALserXHR1bey8cGdQ25ZaxZCkiRpuhmIIPXs/od37S6C6nY9WuOB7buG1KJqFkKSJGnytQpDAAMRpD448pADOXDh3qXFgQsX8JQnHTikFlVzjpAkSZpsVWEIBiJIHWsViLDsiIN596tP2meO0LIjDh52k1uKzBx2G7oyMzOT69atG3YzJEnSqNt6J1y6cu95QAsPgvPXGoAgzUFVIEK9SHpg+y6e8qTRSI2LiFsyc6bZuspDHRHx4Yh4ICK+1bDs7RHxbxFxa/mzumHdJRFxV0R8JyJe2rD8+RHxzXLdmoiIcvkBEfHJcvnNEbGsp1crSZLUyDAEqS+qAhEWLAiWL1nEKcsXs3zJoqEXQVU66fO9AljVZPl7MvOk8uc6gIg4ATgTOLG8z/siYr/y9u8HzgNWlD/1xzwXeCgznwm8B3hnl69FkiRpX4YhSH0xjoEI7VQWQpn5ZWBbh493OnBVZj6SmXcDdwEnR8RRwCGZeVMWY/E+ApzRcJ8ry+ufAl5S7y2SJEnqmWEIUl+MYyBCO72EJbwpIs4G1gFvycyHgKOBrzTcZlO57NHy+uzllJf3AGTmYxHxA+AIYGsPbZMkSdOmVitOjrp9c9ELVA88MAxB6lirMARgLAMR2um2EHo/8AdAlpd/ArweaNaTk22WU7FuLxFxHsXwOpYuXTq3FkuSpMnVSTLc4hWGI0htVIUhLFgQrDrxqRx/4cqRCkToVleHQjLz/sx8PDNrwOXAyeWqTcCxDTc9Bri3XH5Mk+V73Sci9gcOpcVQvMy8LDNnMnNmyZIl3TRdkiRNom3r9xRBUFxec36xXFJHqsIQYPwCEdrpqhAq5/zU/SJQT5S7FjizTII7jiIU4auZeR+wPSJOKef/nA18tuE+55TXXwl8Mcc101uSJA2HyXBSzyYtDKFK5dC4iPgEcCqwOCI2AW8DTo2IkyiGsG0EzgfIzNsi4mrg28BjwBsz8/HyoS6gSKA7CLi+/AH4EPAXEXEXRU/QmX14XZIkaZrUk+FmnyvIZDipY/UwhMZiaJzDEKp4QlVJkjQ+WgUiVM0RkrRbq0CEqjlC46jdCVUthCRJ0nioKnbqRZLJcFJLVcVOvUiahDAEsBCSJEmTYOudcOnKfYe/nb/WNDipQxu27GD1mrX7DH+77sKVLF+yaIgtG4x2hZCHSSRJ0ngwEEHq2bQFIrRjISRJksZDPRChkYEI0pzUAxEaTXIgQjsWQpIkabTUasUwuLvXFpe18uj14c8o5gTVi6H6HKHDnzG8tkpjZtkRB/PuV5+0uxiqzxFadsTBQ27Z/HOOkCRJGh0GIkh90SoZrnHdpAQitGNYgiRJGg8GIkg9m8QY7G4ZliBJksaDgQhSzzY+uHN3EQRFGMJFV9/Kxgd3Drllo8VCSJIkjQ4DEaSemQzXGQshSZI0v1qFIYCBCFIfmAzXmf2H3QBJkjRFqsIQFiworp9/goEIUoVWgQj1ZLjZc4SmMRmuHcMSJEnS/DEMQeqLqkCEaUqGa8ewBEmSNBoMQ5D6oioQYcGCYPmSRZyyfDHLlyyayiKoioWQJEmaP4YhSH1hIELvLIQkSVL/tQpEMAxB6gsDEXpnWIIkSeqvqkAEwxCkjrQKQwAMROgDwxIkSVJ/GYgg9awqDKF+GwMR2jMsQZIkzR8DEaSeVYUhgIEIvbIQkiRJ/WUggtQzwxAGz0JIkiR1x0AEaWAMQxg8wxIkSdLcGYgg9UWrQATDEAbPsARJkjR3BiJIPasKRDAMoXeGJUiSpP4yEEHqWVUggmEIg2UhJEmS5s5ABKlnBiIMl4WQJElqzUAEaWAMRBguwxIkSVJzBiJIfWEgwmgyLEGSJDVnIILUMwMRhsuwBEmSNHcGIkg9MxBhdFkISZI0zVrNAQIDEaQ+MBBhdFkISZI0repzgC5dCVeeVlze8TkDEaQ+MhBhdFkISZI0rbat3xOEAMXlNecXy6EhEGEtvO7zxWU9KEFSR+qBCPViyECE0WFqnCRJ06rdHKB6GMKCBcV1wxGktlolwy1YEKw68akcf+FKAxFGjIWQJEnTqj4HaHYqnHOApDmpSoarByIsX7Jo2E1VA/u2JUmadJ4UVRqoqmQ4jSZ7hCRJmmSeFFUauHbJcPYCjS6/6SRJmmSdBCIsXgHLVhaXFkHSnJkMN578tpMkaZJ5UlSpL2q1ZMOWHdy0fisbtuygVsvd60yGG08OjZMkaZIZiCD1rJMwBJPhxo89QpIkTQIDEaSB6SQMoZ4Md8ryxSxfssgiaAzYIyRJ0rgzEEEaKMMQJpPfgpIkjTsDEaSBMgxhMvlNKEnSuDMQQeqLVoEIhiFMJofGSZI0Lmq1opdn++YiBKE+xM1ABKlnVYEIhiFMHnuEJEkaB/V5QJeuhCtPKy7v+Fyx3EAEqWdVgQiGIUwee4QkSRoHreYBnX9CMe/HQASpJwYiTJ/Kb8iI+HBEPBAR32pY9scRcUdEfCMiromIJ5fLl0XEjyLi1vLnAw33eX5EfDMi7oqINRER5fIDIuKT5fKbI2JZ/1+mJEljrmoekIEIUk8MRJg+nXxLXgGsmrXsRuC5mfkTwL8ClzSsW5+ZJ5U/b2hY/n7gPGBF+VN/zHOBhzLzmcB7gHfO+VVIkjTp6vOAGjkPSJozAxFUVzk0LjO/PLuXJjP/tuHXrwCvbPcYEXEUcEhm3lT+/hHgDOB64HTg7eVNPwW8NyIiM7OzlyBJ0oRoFYYAe+YBzT5XkPOApI4ZiKBG/Zgj9Hrgkw2/HxcRXwceBn4vM9cCRwObGm6zqVxGeXkPQGY+FhE/AI4Ats5+oog4j6JXiaVLl/ah6ZIkjYiqk6J6YlSpZ60CEY6/cOXuAITlSxY5J2hK9PTtGRG/CzwGfKxcdB+wNDOfB1wEfDwiDgGaldL1Hp926/ZemHlZZs5k5sySJUt6abokSaOl6qSo4DwgqUftAhE0fbr+Bo2Ic4DTgNfUh7Fl5iOZ+WB5/RZgPfAsih6gYxrufgxwb3l9E3Bs+Zj7A4cC27ptlyRJY8mTokoDZyCCGnVVCEXEKuBi4BWZ+cOG5UsiYr/y+nKKUIQNmXkfsD0iTinT4s4GPlve7VrgnPL6K4EvOj9IkjR1DEOQ+sZABHWico5QRHwCOBVYHBGbgLdRpMQdANxYpmB/pUyIezHw+xHxGPA48IbMrPfuXECRQHcQRUjC9eXyDwF/ERF3UfQEndmXVyZJ0ihqFYhgGILUFwYiqFMxrp0vMzMzuW7dumE3Q5KkzlUFItSLJMMQpK5t2LKD1WvW7jUX6MCFC7iuDETQdImIWzJzptk6v10lSZovVYEIhiFIPTMQQZ3yG1aSpPliIII0cAYiqFMWQpIk9VutBlvvhLvXFpe18ui0gQhSX7QKQwADEdS5fpxQVZIk1bWbB2QggtSzqjAEAxHUKcMSJEnqp613wqUr9x4Ct/AgOH9tMe/HQASpJ4YhaC4MS5Akab5UzQMyEEHqiWEI6he/fSVJ6ifnAUkDZRiC+sVCSJKkbrQKRKjPA6oXQ84DkrrSKhDBMAT1i3OEJEmaK0+MKg1UVSBCrZZsfHCnYQiq1G6OkIWQJElzVRWIIKknBiKoXwxLkCSpnzwxqjRQBiJoPlgISZI0VwYiSANlIILmg4WQJEnNtApDAAMRpD4xEEHD5BwhSZJmqwpDqN/GQASpawYiaD4YliBJ0lwYhiANnIEImg+GJUiSNBeGIUgDZyCChm3/YTdAkqShqQ9v2765CECoD2+rhyHM7hEyDEGas/oQt/sf3sWRh+wZ4lYPRJjdI2QgguaLPUKSpOlUnwd06Uq48rTi8o7PFcsNQ5D6oj4PaPWatZx1+c2sXrOWG27bTK2WBiJo6JwjJEmaTlXzgAxDkHpWNQ/IQAQNWrs5Qg6NkyRNp3bzgBavKIqexSsMR5B60G4e0PIli1iwIFi+ZJHhCBoKD21JkiZbq/MBeVJUaeA8MapGmYWQJGlyOQ9IGrhWJ0UFT4yq0eYcIUnS5HIekDRQVSdFrd/GeUAaFs8jJEmabK2Gv1WdD6g+D2jZyj3zgiR1bOODO3cXQVDM/7no6lvZ+ODO3bepzwM6Zfni3fOCpFFgWIIkabzVh79dc35R5NSHuB3/cs8HJA1YVRiCNMo89CVJGm/b1u8pgqC4vOb8YrnzgKSBMgxB48weIUnSeKuKwT7+5XD+Cc4DknpQn+dz/8O7OPKQPfN86mEIs+cIGYagcWAhJEkaffVQg+2bi+FujcVM1fA3zwck9aQqEGHViU/l+AtXGoagseMhMUnSaGsXgQ0Of5MGrCoQwTAEjSt7hCRJo63VHKDzT9iT9ObwN2lgDETQpLIQkiSNhlbD36rmAIHD36Q+aDUPqB6I0FgMGYigSWAhJEkaPiOwpaFqNw/IQARNqsjMYbehKzMzM7lu3bphN0OS1A9b7yzm/swuds5fW/QMtSqSHP4m9cWGLTtYvWbtPr0+1124kuVLFu3uLTIQQeMmIm7JzJlm6+wRkiTNn26HvzkHSBqoqnlA9UAE5wRpklgISZLmRy/D35wDJA2U84A0jTycJkmaH63S37atNwJbmie1WrJhyw5uWr+VDVt2UKsVUyTq84AOXFjsGjoPSNPAHiFJUn85/E0aSZ4YVdqbhZAkqX8c/iaNrFYnRj2+DERwHpCmjYfaJEn94/A3aWS1C0SQppE9QpKkuWk19A0c/iaNMAMRpL3530eS1Ln60LdLV8KVpxWXd3yuWA57hr81ajb8bdnK4tIiSOqrVmEIYCCCNJsnVJUkda7diU8Xr2g/R8iiRxqoqjCE+m08MaqmiSdUlSTNTbfJbwsWOPxNGpKqMATAQASpgYWQJGlvvSS/gelv0pC0C0Ow8JH2VXmILiI+HBEPRMS3GpYdHhE3RsSd5eVhDesuiYi7IuI7EfHShuXPj4hvluvWRESUyw+IiE+Wy2+OiGV9fo2SpLkw+U0aS/UwhEaGIUitdTJW4Qpg1axlbwW+kJkrgC+UvxMRJwBnAieW93lfROxX3uf9wHnAivKn/pjnAg9l5jOB9wDv7PbFSJLmoFYr5vzcvba4rAcetBv+tnvo21p43eeLS+f/SPOqVSCCYQjS3FQOjcvMLzfppTkdOLW8fiXwJeDicvlVmfkIcHdE3AWcHBEbgUMy8yaAiPgIcAZwfXmft5eP9SngvREROa4pDpI0DjzxqTSWqgIRVp34VI6/cKVhCFIHuj2Ed2Rm3gdQXj6lXH40cE/D7TaVy44ur89evtd9MvMx4AfAEV22S5LUCYe/SWOpVSDCxgd3AnvCEE5ZvpjlSxZZBElt9DssodmnLdssb3effR884jyK4XUsXbq0m/ZJ0nTpNv3N5DdpJBmIIPVPt4XQ/RFxVGbeFxFHAQ+UyzcBxzbc7hjg3nL5MU2WN95nU0TsDxwKbGv2pJl5GXAZFOcR6rLtkjQdHP4mja36+X7uf3gXRx6yZ4hbPRChsRgyEEHqTreH964FzimvnwN8tmH5mWUS3HEUoQhfLYfPbY+IU8q0uLNn3af+WK8Evuj8IEnqA4e/SWOpPg9o9Zq1nHX5zaxes5YbbttMrZYGIkh9VNkjFBGfoAhGWBwRm4C3Ae8Aro6Ic4HvAa8CyMzbIuJq4NvAY8AbM/Px8qEuoEigO4giJOH6cvmHgL8ogxW2UaTOSZI60WroGzj8TRpTVSdGNRBB6o9OUuPOarHqJS1u/4fAHzZZvg54bpPluygLKUnSHLQb+rZggcPfpDFVNQ+oHojgnCCpNx76k6RR1+p8P+2GvoHD36Qx5YlRpfnR79Q4SVI/tev1qRr6tvvkpw5/k0ZRq0CE+jyg2ecKch6Q1F8WQpI0ClrN9WnV63P+CdVD38Dhb9KI8sSo0vB5WFCShq3e63PpSrjytOLyjs8Vy9v1+jj0TRpbnhhVGj57hCRpvvS718ehb9LY8sSo0vD531KS5sOgen3qQ9+WrdwzL0jSyDMQQRo+e4QkqV/andPHXh9p6rQKQwAMRJBGgIWQJM1Fq2Kn6pw+7Xp9lr6ouO3s+87u9THwQBobVWEIBiJIw2chJEmzdVPstOvxWbzCXh9pyrQKQzj+wpW75wB5YlRpuPwvK2k6tTpJabu5PO1OYNquxwec6yNNmXZhCJJGgz1CkiZTu/k63fbstCt2qs7pY6+PNJFazQOqhyE0FkOGIUijxf/AkkZbq56bduva9epA9z079WKnUb3Y6eScPvb6SBOlPg9o9Zq1nHX5zaxes5YbbttMrZa7wxDqyXCGIUijxx4hScPXzZwc6H6+Trc9O/Vip1mogT0+0tSpmgdkGII02iyEJA3eIIapQXdD2KqCC3opdkx3k6ZK1UlRDUOQRpuFkKT+6DZWuts5OUn383UsdiT1gfOApPFmISSpc4OIle4lgKCbXh2w2JE0J60CETwpqjTeLIQk7a3fxc6ghqlBb/N1LHYkdaDqxKjOA5LGV2TmsNvQlZmZmVy3bt2wmyGNp26LnUtX7luwnL+2eJwrT9v3eV73+aIIaXW/xSuqh87V29qsoGm3TpL6YMOWHaxes3af4W/XNZwYVdLoiohbMnOm2Tp7hKRxVRVAMCrn0BnkMDV7dSQNWFUggqTxZSEkjbJ+x0r3Ek4wyFhpCxpJI8pABGlyOYZEGrZuTgra7oSg7dbBYE4YurvYWVsMhzt/7Z7CCzyRqKSRV6slG7bs4Kb1W9mwZQe1WjF1wBOjSpPLHiGpH0ZpmFq7WGnPoSNJ+zAQQZpOFkJSo24KmlEbpla/7jl0JKkjGx/cubsIgmIO0EVX38rxZSCCJ0aVJpOFkMZTLz0w3fTOQHc9NzCYc+h0GysNFjuSNIuBCNJ0shDS8LQrStqt77ZgabeuqncGxmuYmuEEktQxAxGk6WQh1KNWZ5ueOP3ugenk3DH97oFpt66qd6ZdQTOKw9QsdCRpL+3+X9cDEWbPETIQQZpsFkI9qNWSL33nfh7+tztYnA/xjTicjUc/m1OffWTx5VrV4zGYRo3OkLF269oVM4tXDCYooJfemfp1h6lJ0tipCkMwEEGaThZCPbhn2w6Wb/0iy26+aPdO7sYXv5t7lrycpx9+cHWPRzdFSbv1ozZkrN26dsVML3Nn6tf73TsDDlOTpDFVFYYAGIggTSELoR4ctH0jT/nyRXvt6C/78kVsOebfAQe2LgIOf0b3Rck4DRnrZTjZoIICeumdcZiaJI0lwxAkNWMh1INFjz7YdEf/4EcfhO37tS4CoPuiZJyGjLVbV1XMDCoooJfeGQsaSRppreYBGYYgqRkLoR4ceNjRTXf0DzzsaAhaFwG9pIyN05Cxdus6mRsziB4YixlJmkjt5gEZhiCpmcjMYbehKzMzM7lu3brhNqJWI2+/lvjMG3bv6OcZHyCe8wpqmfzoG5/h4OveuHvdztV/zkE/cQYLHtoAl67ct/A4f21xvdW6xStg652t13c75K7dutnzlpoVJd2ukySpTzZs2cHqNWv36fW5rpwHVO8tMgxBmi4RcUtmzjRdZyHUoxY7+hu27ODcK27mTT+5gKfED3ggD+W9/1LjQ697IcuPeOJg5gg1hjBYsEiSpshN67dy1uU377P8qvNeyCnLFw+hRZJGQbtCyKFxvWox1Or+h3dx94O7eMsXARYCPwTYMzGzl0n5DhmTJGkvzgOSNFcWQgNS+YXcS1Fi0SJJmlKtAhGcByRpriyEBsQvZEmS+qvqxKieFFXSXDhHaIDaTcxsdURLkiQ1VxWIIEmzOUdoSFqdpbrqiJYkSdqXJ0aV1E/Ggg3Bxgd37i6CoPgSv+jqW9n44M4ht0ySpNFVn3/byEAESd2yEBqCdke0JEmadrVasmHLDm5av5UNW3ZQqxXD+Ovzb+vFkPNvJfXCoXFDYMSnJEnNGYggab7YIzQEVUe0Wh0JkyRp0lUNH6/Pvz1l+WKWL1lkESSpa/YIDUG7I1oGKUiSppmBCJLmiz1CQ9LqiJZBCpKkSddu5IOBCJLmi4XQiDFIQZI0yeojH1avWctZl9/M6jVrueG2zQYiSJp3XQ+Ni4hnA59sWLQc+G/Ak4H/DGwpl/9OZl5X3ucS4FzgceDCzPybcvnzgSuAg4DrgDfnuJ7ptUcGKUiSJlmrkQ/HlydFNRBB0nzpukcoM7+TmSdl5knA84EfAteUq99TX9dQBJ0AnAmcCKwC3hcR+5W3fz9wHrCi/FnVbbvGXSdHwgxTkCSNq05GPhiIIGk+9Css4SXA+sz8bkTLL6vTgasy8xHg7oi4Czg5IjYCh2TmTQAR8RHgDOD6PrVtrFQdCTNMQZI0zhz5IGlU9GuO0JnAJxp+f1NEfCMiPhwRh5XLjgbuabjNpnLZ0eX12cunVrsjYYYpSJLGgSdFlTTqeu4RiognAK8ALikXvR/4AyDLyz8BXg80667INsubPdd5FEPoWLp0aU/tHlfGikqSRp0nRZU0DvrRI/Qy4P9m5v0AmXl/Zj6emTXgcuDk8nabgGMb7ncMcG+5/Jgmy/eRmZdl5kxmzixZsqQPTR8/xopKkkadJ0WVNA76UQidRcOwuIg4qmHdLwLfKq9fC5wZEQdExHEUoQhfzcz7gO0RcUoUE4zOBj7bh3ZNpKohBQYpSJKGzVNBSBoHPQ2Ni4gnAj8PnN+w+H9FxEkUw9s21tdl5m0RcTXwbeAx4I2Z+Xh5nwvYE599PVMalNCJdkMKDFKQJM2nWi3Z+OBO7n94F0cesuf/kYEIksZBjOvpemZmZnLdunXDbsZI2bBlB6vXrN3nH8915bkZJEnql3YH3wAPzEkaCRFxS2bONFvXr/hsjQCDFCRJ86XqxKgGIkgadRZCE8ShCJKk+VJ18K0eiOCBOEmjql/nEdII8NwMkqR+axXCY4qppHFnj9AEqTo3Q6tJrZIkNdNuHlD94NvsdR58kzQuDEuYEibKSZLmqiqEp36AzXlAkkZVu7AEh8ZNiaqT20mSNFvV+YA8MaqkcWYhNCU8uZ0kqZl2J+J2HpCkSWYhNCX8ZyZJmq0+bHr1mrWcdfnNrF6zlhtu27y7GDKER9Ikc47QlKiaI2SQgiRNn05OxO08IEnjzBOqqm2inEEKkjSdOjkRt+cDkjSpHBo3RVpNajVIQZImm+cCkqR9WQjJIAVJmmDt5gE5B0jSNHNonHYfEZw9RtwjgpI0/lr1+h9fzgNqdyJuSZpk9gipoyOC7eJVJUmjy3MBSVJz9gipbZACVCfOSZKGr1X6p73+ktScPUIC2h8RNExBkkab84Akae7sEVKlTuJVJUnD4zwgSZo7CyFVqhpW4clYJWm4qg5YeS4gSdqXQ+NUqd2winbDMSRJ/eX5gCSpfyJzPHdYZ2Zmct26dcNuxtSo9/rMHlaxYcsOVq9Zu09v0XXlcAxJUn+0C64BDLWRpCYi4pbMnGm2zqFx6kirYRXOH5Kk+eE8IEnqLwsh9cRYVkmaH84DkqT+co6QelIVy+qJWCWpc+2+M50HJEn9ZY+QetLuZKyeiFWSOlf1nVk/8DR7vecDkqTuGJaggTFIQZI618l3ZqvgGklSc+3CEhwap4FpN55dkrS3Tr4z6/OATlm+ePe8IElSdxwap4HxRKyStK9W332Gz0jS/LJHSAPjiVglaW/tvvuqwmckSf3lHCENlCdilaQ9qr77nAMkSf3lCVU1NJ6IVdI0ajX8zXMBSdLosBDSUHQyFt45RJLGUbsYbOcBSdLocI6QhqKTE7E6h0jSONr44M7dRRAUPT4XXX0rGx/c6TwgSRoh9ghpKNqdiBVa70gc7xwiSSOi2+Fv7b77JEnzx0JIQ9NuLHzVjoTD5iQNUy/D35wHJEmjwaFxGkn1HYlG9R0Jh81Jmg+1WrJhyw5uWr+VDVt27PUd4/A3SRp/9ghpJNV3JGYfbV12xMEOm5M0cO16fBz+JkmTwUJII6ndHCKjtyX1S6thtlUHXBz+Jknjz0JII6vVjkTVDojzhyR1ol2vT9UBl3a91pKk8WAhpLHTbgekajiLpOnTTa9PJz0+Dn+TpPFmIaSx024HZMOWHc4fkrRbt70+Jy87orLHx+FvkjTeLIQ0llrtgDh/SJpO/e71scdHkiafhZAmivOHpOkzqF4fe3wkabJZCGmiOH9ImkztDmLY6yNJ6oaFkCaK84ekydPLOX3s9ZEktWIhpInj/CFpPA3inD72+kiSWlnQy50jYmNEfDMibo2IdeWywyPixoi4s7w8rOH2l0TEXRHxnYh4acPy55ePc1dErIkI/0Op7+o7S40a5w9BsSO2YcsOblq/lQ1bdlCr5Xw3U5pK9V6f1WvWctblN7N6zVpuuG0ztVq2PYgBe4bE1j/frXp9Tlm+mOVLFlkESZKA/vQI/Uxmbm34/a3AFzLzHRHx1vL3iyPiBOBM4ETgacDfRcSzMvNx4P3AecBXgOuAVcD1fWibtFvVCRCdQyQNnuf0kSSNikEMjTsdOLW8fiXwJeDicvlVmfkIcHdE3AWcHBEbgUMy8yaAiPgIcAYWQuqzqp2lquE3knrjOX0kSaOk10Iogb+NiAQuzczLgCMz8z6AzLwvIp5S3vZoih6fuk3lskfL67OXS33Xbmepag6R0dtSZzynjyRpHPRaCL0oM+8ti50bI+KONrdt9h8r2yzf9wEizqMYQsfSpUvn2laprXY7Yg6bkzrjOX0kSeOip7CEzLy3vHwAuAY4Gbg/Io4CKC8fKG++CTi24e7HAPeWy49psrzZ812WmTOZObNkyZJemi7to92E61ZHsjc+uHOYTZaGol2oSLvPSrvAknqvz3UXruSq817IdReu9ECDJGmguu4RioiDgQWZub28/p+A3weuBc4B3lFefra8y7XAxyPi3RRhCSuAr2bm4xGxPSJOAW4Gzgb+d7ftkrrVbviNw+Y0bVpt057TR5I0KXoZGnckcE2ZdL0/8PHMvCEivgZcHRHnAt8DXgWQmbdFxNXAt4HHgDeWiXEAFwBXAAdRhCQYlKChaLUj5rA5TaJuih3P6SNJmhSROZ7nSZmZmcl169YNuxmaElU7hqvXrN1nx+860+Y0wrrdpu9/eBdnXX7zPo931Xkv5JTliz0wIEkaKRFxS2bONFs3iPhsaeL0MmxOGqZuEtzabdOe00eSNCkshKQOdTNsDlrviEr90G776jbBrd02XXViYnCujyRpPFgIST1qt2PoMCH1Q7fBBd2et6fdNm2PjyRpUjhHSOqD+o7q7B3DDVt2OH9IHek2uKDd9nXT+q0t5/OcvOyItkVUq21akqRx4hwhacBaDQXqZP6QQ+fUbUpb1fbVS4Kbw9skSZOupxOqSmqv3QkkYc8O8Oo1aznr8ptZvWYtN9y2ea8TVGpytDoRabuTkHYyl6dR4/bV7iTBsKfYOWX5YpYvWWQBLkmaKvYISQNUNbG86pwsA/XYY7BzJyxaBPvtN9jnmhKjFlzgfB5JklqzEJIGqGpHtGpoU9+HzT3yCPzlX8I73wm33QYLF8Kjj8KJJ8LFF8OrXgUHHNDLS5544xZc4BA3SZKasxCSBqzdjmi7HeC+J8599avwspfBj38MO3YUy3784+LyW9+CCy6AN78ZbrgBXvCCbl7qxOt2Ls/yJYvaFr0nLzui62LHQkeSpO44R0gaonZzONrNG4HW802a+trX4Gd/FrZt21MEzbZjR7H+Z36muP0U6/dcHmg/X6xe7Fx34UquOu+FXHfhyr0KXufySJLUf/YISUPU7mh/ux3rZUcc3FH08f0P7+LIA4LjVq0idu7srFE7d8KqVXDvvRM9TK6bIW7dzuWB6vli9uxIkjS/LISkIWu1A9xux7rdMKzZRdKr7vgSf7TrkTl92GuP/Jj1f/5/2O9XX7vPhP9xifruNrhgEHN5wOACSZJGjYWQNKLa7VjffPeDbYdhNe7In/tPf8n+P+ywN6i0YOcOHv+jd/Dyh56+u0AAOu+FalJ4tCugur3vIIILBjWXB+z1kSRplFgISSOq3Y51u56Jxh35BbXHedbW73X1/M/a+j1+/MijuwsEoONeqMbCA6oLqG7u225dL8EFnoRUkqTpYFiCNMJaTZJvF7LQOCn/4Ed38diC7s4R9NiC/Tj40V27C4R2xUO7EIGq0Idu7zuo4AJPQipJ0nSwR0gaQ+16JhqH1O2sHcj+tce7eo79a4+zc+GBe03476QXqq5eeGTS9lxJ3d633bpeggucyyNJ0nSwEJLGVKthWLN35B/93HM44I5vz/nx/3XxUp5wwMK9ekPahQG0KzzarasqWrpZ12twgUPcJEmafJHZ5twjI2xmZibXrVs37GZIo++jHy1Oltrq/EFN1A5exPo/+GP2e23z1LjZxUO383wGNUeoMbzBXh1JkqZXRNySmTNN11kISRPukUfgaU8rTpbaqcMPn/N5hNoVHlVFSbf3tdiRJEntWAhJ0+5rX4Of+ZniZKlVDj4Y/v7v4QUvGHy7JEmSBqhdIWRqnDQNXvCCorg5/HBY1GLey6JFxXqLIEmSNAUshKRp8YIXFMPdPvABeO5zIQIWLiwun/vcYvm991oESZKkqWBqnDRNDjgAXvOa4ufxx4sAhUWLYL/uzjUkSZI0riyEpGm1335w6KHDboUkSdJQODROkiRJ0tSxEJIkSZI0dSyEJEmSJE0dCyFJkiRJU8dCSJIkSdLUsRCSJEmSNHUshCRJkiRNHQshSZIkSVPHQkiSJEnS1LEQkiRJkjR1LIQkSZIkTZ3IzGG3oSsRsQX47jw+5WJg6zw+nyaP25B65TakXrkNqVduQ+rVfG9DT8/MJc1WjG0hNN8iYl1mzgy7HRpfbkPqlduQeuU2pF65DalXo7QNOTROkiRJ0tSxEJIkSZI0dSyEOnfZsBugsec2pF65DalXbkPqlduQejUy25BzhCRJkiRNHXuEJEmSJE0dC6EORMSqiPhORNwVEW8ddns0+iLi2Ij4+4i4PSJui4g3l8sPj4gbI+LO8vKwYbdVoysi9ouIr0fE58vf3X40JxHx5Ij4VETcUX4f/Qe3I3UqIv5L+T/sWxHxiYg40O1HVSLiwxHxQER8q2FZy+0mIi4p97G/ExEvnc+2WghViIj9gD8HXgacAJwVEScMt1UaA48Bb8nM5wCnAG8st5u3Al/IzBXAF8rfpVbeDNze8Lvbj+bqz4AbMvN44Ccptie3I1WKiKOBC4GZzHwusB9wJm4/qnYFsGrWsqbbTblvdCZwYnmf95X73vPCQqjaycBdmbkhM38MXAWcPuQ2acRl5n2Z+X/L69spdj6Opth2rixvdiVwxlAaqJEXEccAvwB8sGGx2486FhGHAC8GPgSQmT/OzO/jdqTO7Q8cFBH7A08E7sXtRxUy88vAtlmLW203pwNXZeYjmXk3cBfFvve8sBCqdjRwT8Pvm8plUkciYhnwPOBm4MjMvA+KYgl4yhCbptH2p8BvA7WGZW4/movlwBbg/5RDLD8YEQfjdqQOZOa/Ae8CvgfcB/wgM/8Wtx91p9V2M9T9bAuhatFkmVF76khELAI+DfxmZj487PZoPETEacADmXnLsNuisbY/8O+B92fm84CdOIxJHSrncJwOHAc8DTg4Il473FZpAg11P9tCqNom4NiG34+h6BqW2oqIhRRF0Mcy86/KxfdHxFHl+qOAB4bVPo20FwGviIiNFMNxfzYiPorbj+ZmE7ApM28uf/8URWHkdqRO/Bxwd2ZuycxHgb8Cfgq3H3Wn1XYz1P1sC6FqXwNWRMRxEfEEigld1w65TRpxEREU4/Jvz8x3N6y6FjinvH4O8Nn5bptGX2ZekpnHZOYyiu+cL2bma3H70Rxk5mbgnoh4drnoJcC3cTtSZ74HnBIRTyz/p72EYr6r24+60Wq7uRY4MyIOiIjjgBXAV+erUZ5QtQMRsZpivP5+wIcz8w+H2yKNuoj4aWAt8E32zPH4HYp5QlcDSyn+ybwqM2dPKJR2i4hTgd/KzNMi4gjcfjQHEXESReDGE4ANwK9RHAR1O1KliPjvwC9TJKF+Hfh1YBFuP2ojIj4BnAosBu4H3gZ8hhbbTUT8LvB6iu3sNzPz+nlrq4WQJEmSpGnj0DhJkiRJU8dCSJIkSdLUsRCSJEmSNHUshCRJkiRNHQshSZIkSVPHQkiSJEnS1LEQkiRJkjR1LIQkSZIkTZ3/H5WX1UGZ8egrAAAAAElFTkSuQmCC\n",
          "text/plain": "<Figure size 1008x576 with 1 Axes>"
         },
         "metadata": {
          "needs_background": "light"
         },
         "output_type": "display_data"
        }
       ]
      }
     },
     "7dc9696737ea426686fa9de1f1479810": {
      "model_module": "@jupyter-widgets/base",
      "model_module_version": "1.2.0",
      "model_name": "LayoutModel",
      "state": {}
     },
     "81e915df9be84d55b9e20633a349d50d": {
      "model_module": "@jupyter-widgets/base",
      "model_module_version": "1.2.0",
      "model_name": "LayoutModel",
      "state": {}
     },
     "83ba0dccd8434a639d549c9f63c2615d": {
      "model_module": "@jupyter-widgets/output",
      "model_module_version": "1.0.0",
      "model_name": "OutputModel",
      "state": {
       "layout": "IPY_MODEL_81e915df9be84d55b9e20633a349d50d",
       "outputs": [
        {
         "name": "stdout",
         "output_type": "stream",
         "text": "Valor mínimo para un porcentaje de 24\nValor actual 43\n"
        },
        {
         "data": {
          "image/png": "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\n",
          "text/plain": "<Figure size 1008x576 with 1 Axes>"
         },
         "metadata": {
          "needs_background": "light"
         },
         "output_type": "display_data"
        }
       ]
      }
     },
     "83f4b30b10384a0db890a24fef7bf620": {
      "model_module": "@jupyter-widgets/base",
      "model_module_version": "1.2.0",
      "model_name": "LayoutModel",
      "state": {}
     },
     "8dd1920e2d7140a3a436389f1a152d5d": {
      "model_module": "@jupyter-widgets/base",
      "model_module_version": "1.2.0",
      "model_name": "LayoutModel",
      "state": {}
     },
     "8f088796687b406eacb3b5979b2f58d0": {
      "model_module": "@jupyter-widgets/base",
      "model_module_version": "1.2.0",
      "model_name": "LayoutModel",
      "state": {}
     },
     "9d4d380850af4346bad0f49bcea24c6e": {
      "model_module": "@jupyter-widgets/controls",
      "model_module_version": "1.5.0",
      "model_name": "VBoxModel",
      "state": {
       "_dom_classes": [
        "widget-interact"
       ],
       "children": [
        "IPY_MODEL_51f3e23b98de4edaaf8bc225b5b9e48c",
        "IPY_MODEL_e5500207eae74ab0b134f284444d12cc"
       ],
       "layout": "IPY_MODEL_68f48994cf8d46d9a950fb552fb6cfec"
      }
     },
     "a502652f44894269ae904db4800c6a74": {
      "model_module": "@jupyter-widgets/controls",
      "model_module_version": "1.5.0",
      "model_name": "DescriptionStyleModel",
      "state": {
       "description_width": ""
      }
     },
     "a57c4ca5d06941e4bef88a09cb4ad78d": {
      "model_module": "@jupyter-widgets/base",
      "model_module_version": "1.2.0",
      "model_name": "LayoutModel",
      "state": {}
     },
     "a5f7a121776741498cd0e1b4654a4a33": {
      "model_module": "@jupyter-widgets/controls",
      "model_module_version": "1.5.0",
      "model_name": "VBoxModel",
      "state": {
       "_dom_classes": [
        "widget-interact"
       ],
       "children": [
        "IPY_MODEL_4816dfcb27454488ae00667df29133c7",
        "IPY_MODEL_7c91f693a0614fdd8a102137253cdc11"
       ],
       "layout": "IPY_MODEL_fc9c88e2316b489593643636dbf07ef0"
      }
     },
     "a6dc7af9453848ec9f881b71fdd45f4a": {
      "model_module": "@jupyter-widgets/controls",
      "model_module_version": "1.5.0",
      "model_name": "IntSliderModel",
      "state": {
       "layout": "IPY_MODEL_7dc9696737ea426686fa9de1f1479810",
       "max": 200,
       "style": "IPY_MODEL_fe8b383441ec4b08a41816959adce89a",
       "value": 100
      }
     },
     "b06521e0e1e14288ad4cc949383e19db": {
      "model_module": "@jupyter-widgets/controls",
      "model_module_version": "1.5.0",
      "model_name": "IntSliderModel",
      "state": {
       "layout": "IPY_MODEL_5887df009ba04db2b8ee85d84116e211",
       "max": 200,
       "style": "IPY_MODEL_0073ea51c4f24490a0de2fcd773c3cd8",
       "value": 100
      }
     },
     "b3cd952ad85f43efabc3a00faf2a4e48": {
      "model_module": "@jupyter-widgets/controls",
      "model_module_version": "1.5.0",
      "model_name": "HBoxModel",
      "state": {
       "children": [
        "IPY_MODEL_7bf06b29a6a847b5a3924fe9ed8a7409",
        "IPY_MODEL_7bf06b29a6a847b5a3924fe9ed8a7409"
       ],
       "layout": "IPY_MODEL_cddf709dc00b4e64a5b5331994968f39"
      }
     },
     "b3f6f294ec334d7ca4a65c91979a153e": {
      "model_module": "@jupyter-widgets/base",
      "model_module_version": "1.2.0",
      "model_name": "LayoutModel",
      "state": {}
     },
     "b7ef7d9546f042da87c37a54868f41a2": {
      "model_module": "@jupyter-widgets/controls",
      "model_module_version": "1.5.0",
      "model_name": "VBoxModel",
      "state": {
       "_dom_classes": [
        "widget-interact"
       ],
       "children": [
        "IPY_MODEL_4bca5a207c9345938bbbabcb2985e193",
        "IPY_MODEL_f3bb056170b0406f9b6cbf7dca3ceac0"
       ],
       "layout": "IPY_MODEL_b3f6f294ec334d7ca4a65c91979a153e"
      }
     },
     "b999c6d47efe44b29246bb3920130972": {
      "model_module": "@jupyter-widgets/base",
      "model_module_version": "1.2.0",
      "model_name": "LayoutModel",
      "state": {}
     },
     "bac499d301d64010983400fe276c38bd": {
      "model_module": "@jupyter-widgets/controls",
      "model_module_version": "1.5.0",
      "model_name": "DescriptionStyleModel",
      "state": {
       "description_width": ""
      }
     },
     "c09951a12fdf48579f43398553d0c924": {
      "model_module": "@jupyter-widgets/controls",
      "model_module_version": "1.5.0",
      "model_name": "IntSliderModel",
      "state": {
       "layout": "IPY_MODEL_21b49d5dad4f4780896ba86dc683fe18",
       "style": "IPY_MODEL_c389a212ef764825becaa914c648f52e",
       "value": 40
      }
     },
     "c389a212ef764825becaa914c648f52e": {
      "model_module": "@jupyter-widgets/controls",
      "model_module_version": "1.5.0",
      "model_name": "SliderStyleModel",
      "state": {
       "description_width": ""
      }
     },
     "cb559882afbb4fc3a7adf799de678d8c": {
      "model_module": "@jupyter-widgets/output",
      "model_module_version": "1.0.0",
      "model_name": "OutputModel",
      "state": {
       "layout": "IPY_MODEL_d9d2cf8095274ceba7ced5747bcb37ce",
       "outputs": [
        {
         "name": "stdout",
         "output_type": "stream",
         "text": "Valor mínimo para un porcentaje de 24\nValor actual 43\n"
        },
        {
         "data": {
          "image/png": "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\n",
          "text/plain": "<Figure size 1008x576 with 1 Axes>"
         },
         "metadata": {
          "needs_background": "light"
         },
         "output_type": "display_data"
        }
       ]
      }
     },
     "cddf709dc00b4e64a5b5331994968f39": {
      "model_module": "@jupyter-widgets/base",
      "model_module_version": "1.2.0",
      "model_name": "LayoutModel",
      "state": {}
     },
     "ce6362d9155c43c98e24bddcc976fb14": {
      "model_module": "@jupyter-widgets/controls",
      "model_module_version": "1.5.0",
      "model_name": "VBoxModel",
      "state": {
       "_dom_classes": [
        "widget-interact"
       ],
       "children": [
        "IPY_MODEL_e59ac41e8c6e4a1c89e0e6b2fc90c4dc",
        "IPY_MODEL_83ba0dccd8434a639d549c9f63c2615d"
       ],
       "layout": "IPY_MODEL_a57c4ca5d06941e4bef88a09cb4ad78d"
      }
     },
     "cec56385bf4f4c0d85b0e709b0279364": {
      "model_module": "@jupyter-widgets/base",
      "model_module_version": "1.2.0",
      "model_name": "LayoutModel",
      "state": {}
     },
     "d0854e8d08274d23854f92b22ecbba53": {
      "model_module": "@jupyter-widgets/base",
      "model_module_version": "1.2.0",
      "model_name": "LayoutModel",
      "state": {}
     },
     "d826385c24c24a4cbcb04df04d6a6f45": {
      "model_module": "@jupyter-widgets/controls",
      "model_module_version": "1.5.0",
      "model_name": "DescriptionStyleModel",
      "state": {
       "description_width": ""
      }
     },
     "d8f14d16df0c43b68ae383364cd2f818": {
      "model_module": "@jupyter-widgets/controls",
      "model_module_version": "1.5.0",
      "model_name": "IntSliderModel",
      "state": {
       "layout": "IPY_MODEL_dc07f843c0f4410d8fa58406eb9d0f23",
       "style": "IPY_MODEL_1ec699594dff4dce88f95d74f5deb561",
       "value": 40
      }
     },
     "d9d2cf8095274ceba7ced5747bcb37ce": {
      "model_module": "@jupyter-widgets/base",
      "model_module_version": "1.2.0",
      "model_name": "LayoutModel",
      "state": {}
     },
     "dc07f843c0f4410d8fa58406eb9d0f23": {
      "model_module": "@jupyter-widgets/base",
      "model_module_version": "1.2.0",
      "model_name": "LayoutModel",
      "state": {}
     },
     "dc29f27f7b6d4b8d8b74c242b04c48a5": {
      "model_module": "@jupyter-widgets/base",
      "model_module_version": "1.2.0",
      "model_name": "LayoutModel",
      "state": {}
     },
     "e17c8b2da9d24185b063485eeb5c84f5": {
      "model_module": "@jupyter-widgets/base",
      "model_module_version": "1.2.0",
      "model_name": "LayoutModel",
      "state": {}
     },
     "e2573af950704cb78b9d6250ef407861": {
      "model_module": "@jupyter-widgets/controls",
      "model_module_version": "1.5.0",
      "model_name": "DescriptionStyleModel",
      "state": {
       "description_width": ""
      }
     },
     "e5500207eae74ab0b134f284444d12cc": {
      "model_module": "@jupyter-widgets/output",
      "model_module_version": "1.0.0",
      "model_name": "OutputModel",
      "state": {
       "layout": "IPY_MODEL_d0854e8d08274d23854f92b22ecbba53",
       "outputs": [
        {
         "name": "stdout",
         "output_type": "stream",
         "text": "Valor mínimo para un porcentaje de 24\nValor actual 25\n"
        },
        {
         "data": {
          "image/png": "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\n",
          "text/plain": "<Figure size 1008x576 with 1 Axes>"
         },
         "metadata": {
          "needs_background": "light"
         },
         "output_type": "display_data"
        }
       ]
      }
     },
     "e59ac41e8c6e4a1c89e0e6b2fc90c4dc": {
      "model_module": "@jupyter-widgets/controls",
      "model_module_version": "1.5.0",
      "model_name": "DropdownModel",
      "state": {
       "_options_labels": [
        "11CPDSTO",
        "11ZADSTO",
        "12BEDMT1",
        "12BEDMT2",
        "12LPDSCE",
        "12LPDST1",
        "12LPDST2",
        "13MPDST1",
        "13MPDST2",
        "13MPDST3",
        "13TADSTO",
        "14BBDSTO",
        "14TRDSTO",
        "15CIDSTO",
        "15GRDSTO",
        "15NEDSTO",
        "21DEDSTO",
        "21PADST1",
        "21SADSTO",
        "22BODST1",
        "22BODST2",
        "22BODST3",
        "22PADSTO",
        "22REDSTO",
        "22STDST1",
        "22STDST2",
        "22STDST3",
        "23BODSTO",
        "23MUDST1",
        "23OLDST1",
        "23TIDST1",
        "23TIDST2",
        "24ITDST1",
        "24ITDST2",
        "24ITDST3",
        "24ITDST4",
        "24LUDSTO",
        "24RMDST1",
        "24RMDST2",
        "24RMDST3",
        "24RMDST4",
        "24SMDST3",
        "25AVDSCE",
        "25AVDSTO",
        "25BUDSCE",
        "25BUDST1",
        "25BUDST2",
        "25BUDST3",
        "25BUDST4",
        "25BUDST5",
        "25MGDSCE",
        "25MGDSTO",
        "25QUDSCE",
        "25QUDST1",
        "25QUDST2",
        "25QUDST3",
        "25QUDST4",
        "41CPDSTO",
        "41SFDSTO",
        "41VMDSTO",
        "42RCDSTO",
        "51RODMT5",
        "51RODMT6",
        "51RODST1",
        "51RODST2",
        "51RODST3",
        "51RODST4",
        "51RODST5",
        "52RFDSTO",
        "52SFDST1",
        "52SFDST2",
        "52SFDST3",
        "53VTDMTO",
        "54CUDSTO",
        "54GCDSTO",
        "54PADST2",
        "54PADSTO",
        "55CODSTO",
        "55PODSTO",
        "56FODSTO",
        "56REDSTO",
        "62SADSTO"
       ],
       "description": "col",
       "index": 0,
       "layout": "IPY_MODEL_8dd1920e2d7140a3a436389f1a152d5d",
       "style": "IPY_MODEL_d826385c24c24a4cbcb04df04d6a6f45"
      }
     },
     "eaca3fbc423a4159b2ebf8b81d5c450f": {
      "model_module": "@jupyter-widgets/base",
      "model_module_version": "1.2.0",
      "model_name": "LayoutModel",
      "state": {}
     },
     "f0eabee72b094c76800db53ca0fa2462": {
      "model_module": "@jupyter-widgets/controls",
      "model_module_version": "1.5.0",
      "model_name": "IntSliderModel",
      "state": {
       "layout": "IPY_MODEL_1de42a42ce864730aa33aaa931f9b9d4",
       "style": "IPY_MODEL_79e85275576a48bc918372f2ad99f1a7",
       "value": 40
      }
     },
     "f321b609289743d09cc8b3c291e369ab": {
      "model_module": "@jupyter-widgets/controls",
      "model_module_version": "1.5.0",
      "model_name": "VBoxModel",
      "state": {
       "_dom_classes": [
        "widget-interact"
       ],
       "children": [
        "IPY_MODEL_78333fc334bf46fb8e354e20d603fb4f",
        "IPY_MODEL_2203a9d1da794f2ebc31b284df1d976b"
       ],
       "layout": "IPY_MODEL_21fc552fcebb4447b08264ab3668de48"
      }
     },
     "f3bb056170b0406f9b6cbf7dca3ceac0": {
      "model_module": "@jupyter-widgets/output",
      "model_module_version": "1.0.0",
      "model_name": "OutputModel",
      "state": {
       "layout": "IPY_MODEL_063aed4defe94e6a827de04aa5af613f",
       "outputs": [
        {
         "name": "stdout",
         "output_type": "stream",
         "text": "Valor mínimo para un porcentaje de 24\nValor actual 43\n"
        },
        {
         "data": {
          "image/png": "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\n",
          "text/plain": "<Figure size 1008x576 with 1 Axes>"
         },
         "metadata": {
          "needs_background": "light"
         },
         "output_type": "display_data"
        }
       ]
      }
     },
     "f775821abcdb4f9ca530343157b903f0": {
      "model_module": "@jupyter-widgets/base",
      "model_module_version": "1.2.0",
      "model_name": "LayoutModel",
      "state": {}
     },
     "f97670d5fa78477481dd3259eb801589": {
      "model_module": "@jupyter-widgets/output",
      "model_module_version": "1.0.0",
      "model_name": "OutputModel",
      "state": {
       "layout": "IPY_MODEL_2a411ee45e1944b7b4f3c35a18e15264",
       "outputs": [
        {
         "name": "stdout",
         "output_type": "stream",
         "text": "Valor mínimo para un porcentaje de 46\nValor actual 35\n"
        },
        {
         "data": {
          "image/png": "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\n",
          "text/plain": "<Figure size 1008x576 with 1 Axes>"
         },
         "metadata": {
          "needs_background": "light"
         },
         "output_type": "display_data"
        }
       ]
      }
     },
     "fc9c88e2316b489593643636dbf07ef0": {
      "model_module": "@jupyter-widgets/base",
      "model_module_version": "1.2.0",
      "model_name": "LayoutModel",
      "state": {}
     },
     "fe8b383441ec4b08a41816959adce89a": {
      "model_module": "@jupyter-widgets/controls",
      "model_module_version": "1.5.0",
      "model_name": "SliderStyleModel",
      "state": {
       "description_width": ""
      }
     }
    },
    "version_major": 2,
    "version_minor": 0
   }
  }
 },
 "nbformat": 4,
 "nbformat_minor": 5
}
